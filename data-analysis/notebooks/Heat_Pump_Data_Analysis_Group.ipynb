{
  "cells": [
    {
      "cell_type": "markdown",
      "metadata": {
        "id": "1ISyj93phAa2"
      },
      "source": [
        "# Heat Pump Accelerator Analysis "
      ]
    },
    {
      "cell_type": "markdown",
      "metadata": {
        "id": "MfgJ4eCjhAa3"
      },
      "source": [
        "### Import Libraries"
      ]
    },
    {
      "cell_type": "code",
      "execution_count": 27,
      "metadata": {
        "id": "6rc-JLMVhAa4"
      },
      "outputs": [],
      "source": [
        "import numpy as np\n",
        "import pandas as pd\n",
        "import matplotlib.pyplot as plt\n",
        "import seaborn as sns\n",
        "import geopandas as gp"
      ]
    },
    {
      "cell_type": "markdown",
      "metadata": {
        "id": "GNdTMO-IhAa4"
      },
      "source": [
        "### Import Dataset\n",
        "\n",
        "More information here: https://data.boston.gov/dataset/property-assessment\n"
      ]
    },
    {
      "cell_type": "code",
      "execution_count": 22,
      "metadata": {
        "id": "dOeI-5YChAa4"
      },
      "outputs": [],
      "source": [
        "prop_assess = pd.read_csv('https://data.boston.gov/dataset/e02c44d2-3c64-459c-8fe2-e1ce5f38a035/resource/c4b7331e-e213-45a5-adda-052e4dd31d41/download/data2021-full.csv',\n",
        "dtype=object)"
      ]
    },
    {
      "cell_type": "code",
      "execution_count": 24,
      "metadata": {},
      "outputs": [
        {
          "data": {
            "text/plain": [
              "0    0100001000\n",
              "1    0100002000\n",
              "2    0100003000\n",
              "3    0100004000\n",
              "4    0100005000\n",
              "Name: GIS_ID, dtype: object"
            ]
          },
          "execution_count": 24,
          "metadata": {},
          "output_type": "execute_result"
        }
      ],
      "source": [
        "prop_assess['GIS_ID'].head(5)"
      ]
    },
    {
      "cell_type": "markdown",
      "metadata": {},
      "source": [
        "Then, we join the property assessment data to the parcel data."
      ]
    },
    {
      "cell_type": "code",
      "execution_count": 2,
      "metadata": {},
      "outputs": [],
      "source": [
        "parcels = gp.read_file(\"https://bostonopendata-boston.opendata.arcgis.com/datasets/boston::parcels-2021.geojson\")"
      ]
    },
    {
      "cell_type": "code",
      "execution_count": 25,
      "metadata": {},
      "outputs": [
        {
          "data": {
            "text/plain": [
              "OBJECTID_1          int64\n",
              "OBJECTID            int64\n",
              "MAP_PAR_ID         object\n",
              "LOC_ID             object\n",
              "POLY_TYPE          object\n",
              "MAP_NO             object\n",
              "SOURCE             object\n",
              "PLAN_ID            object\n",
              "LAST_EDIT           int64\n",
              "BND_CHK            object\n",
              "NO_MATCH           object\n",
              "TOWN_ID             int64\n",
              "Shape_STAr        float64\n",
              "Shape_STLe        float64\n",
              "Shape_ST_1        float64\n",
              "Shape_ST_2        float64\n",
              "Shape__Area       float64\n",
              "Shape__Length     float64\n",
              "geometry         geometry\n",
              "dtype: object"
            ]
          },
          "execution_count": 25,
          "metadata": {},
          "output_type": "execute_result"
        }
      ],
      "source": [
        "parcels.dtypes"
      ]
    },
    {
      "cell_type": "markdown",
      "metadata": {
        "id": "BOHJC_lShAa5"
      },
      "source": [
        "### Summarize Dataset"
      ]
    },
    {
      "cell_type": "code",
      "execution_count": null,
      "metadata": {
        "colab": {
          "base_uri": "https://localhost:8080/",
          "height": 404
        },
        "id": "dixV8qyPhAa5",
        "outputId": "3fc169bb-aff7-47b6-c14f-7cbc65e72b72"
      },
      "outputs": [
        {
          "data": {
            "text/html": [
              "\n",
              "  <div id=\"df-53b00dc2-fdb1-40b5-8773-be832429544a\">\n",
              "    <div class=\"colab-df-container\">\n",
              "      <div>\n",
              "<style scoped>\n",
              "    .dataframe tbody tr th:only-of-type {\n",
              "        vertical-align: middle;\n",
              "    }\n",
              "\n",
              "    .dataframe tbody tr th {\n",
              "        vertical-align: top;\n",
              "    }\n",
              "\n",
              "    .dataframe thead th {\n",
              "        text-align: right;\n",
              "    }\n",
              "</style>\n",
              "<table border=\"1\" class=\"dataframe\">\n",
              "  <thead>\n",
              "    <tr style=\"text-align: right;\">\n",
              "      <th></th>\n",
              "      <th>PID</th>\n",
              "      <th>CM_ID</th>\n",
              "      <th>GIS_ID</th>\n",
              "      <th>ST_NUM</th>\n",
              "      <th>ST_NAME</th>\n",
              "      <th>UNIT_NUM</th>\n",
              "      <th>CITY</th>\n",
              "      <th>ZIPCODE</th>\n",
              "      <th>BLDG_SEQ</th>\n",
              "      <th>NUM_BLDGS</th>\n",
              "      <th>...</th>\n",
              "      <th>KITCHEN_STYLE2</th>\n",
              "      <th>KITCHEN_STYLE3</th>\n",
              "      <th>HEAT_TYPE</th>\n",
              "      <th>HEAT_FUEL</th>\n",
              "      <th>AC_TYPE</th>\n",
              "      <th>FIRE_PLACE</th>\n",
              "      <th>PlUMBING</th>\n",
              "      <th>NUM_PARKING</th>\n",
              "      <th>PROP_VIEW</th>\n",
              "      <th>CORNER_UNIT</th>\n",
              "    </tr>\n",
              "  </thead>\n",
              "  <tbody>\n",
              "    <tr>\n",
              "      <th>0</th>\n",
              "      <td>100001000</td>\n",
              "      <td>NaN</td>\n",
              "      <td>100001000.0</td>\n",
              "      <td>104 A 104</td>\n",
              "      <td>PUTNAM ST</td>\n",
              "      <td>NaN</td>\n",
              "      <td>EAST BOSTON</td>\n",
              "      <td>2128</td>\n",
              "      <td>1.0</td>\n",
              "      <td>1.0</td>\n",
              "      <td>...</td>\n",
              "      <td>S - Semi-Modern</td>\n",
              "      <td>S - Semi-Modern</td>\n",
              "      <td>W - Ht Water/Steam</td>\n",
              "      <td>NaN</td>\n",
              "      <td>N - None</td>\n",
              "      <td>NaN</td>\n",
              "      <td>NaN</td>\n",
              "      <td>3.0</td>\n",
              "      <td>A - Average</td>\n",
              "      <td>NaN</td>\n",
              "    </tr>\n",
              "    <tr>\n",
              "      <th>1</th>\n",
              "      <td>100002000</td>\n",
              "      <td>NaN</td>\n",
              "      <td>100002000.0</td>\n",
              "      <td>197</td>\n",
              "      <td>LEXINGTON ST</td>\n",
              "      <td>NaN</td>\n",
              "      <td>EAST BOSTON</td>\n",
              "      <td>2128</td>\n",
              "      <td>1.0</td>\n",
              "      <td>1.0</td>\n",
              "      <td>...</td>\n",
              "      <td>M - Modern</td>\n",
              "      <td>M - Modern</td>\n",
              "      <td>F - Forced Hot Air</td>\n",
              "      <td>NaN</td>\n",
              "      <td>C - Central AC</td>\n",
              "      <td>NaN</td>\n",
              "      <td>NaN</td>\n",
              "      <td>NaN</td>\n",
              "      <td>A - Average</td>\n",
              "      <td>NaN</td>\n",
              "    </tr>\n",
              "    <tr>\n",
              "      <th>2</th>\n",
              "      <td>100003000</td>\n",
              "      <td>NaN</td>\n",
              "      <td>100003000.0</td>\n",
              "      <td>199</td>\n",
              "      <td>LEXINGTON ST</td>\n",
              "      <td>NaN</td>\n",
              "      <td>EAST BOSTON</td>\n",
              "      <td>2128</td>\n",
              "      <td>1.0</td>\n",
              "      <td>1.0</td>\n",
              "      <td>...</td>\n",
              "      <td>S - Semi-Modern</td>\n",
              "      <td>S - Semi-Modern</td>\n",
              "      <td>S - Space Heat</td>\n",
              "      <td>NaN</td>\n",
              "      <td>N - None</td>\n",
              "      <td>NaN</td>\n",
              "      <td>NaN</td>\n",
              "      <td>NaN</td>\n",
              "      <td>A - Average</td>\n",
              "      <td>NaN</td>\n",
              "    </tr>\n",
              "    <tr>\n",
              "      <th>3</th>\n",
              "      <td>100004000</td>\n",
              "      <td>NaN</td>\n",
              "      <td>100004000.0</td>\n",
              "      <td>201</td>\n",
              "      <td>LEXINGTON ST</td>\n",
              "      <td>NaN</td>\n",
              "      <td>EAST BOSTON</td>\n",
              "      <td>2128</td>\n",
              "      <td>1.0</td>\n",
              "      <td>1.0</td>\n",
              "      <td>...</td>\n",
              "      <td>S - Semi-Modern</td>\n",
              "      <td>S - Semi-Modern</td>\n",
              "      <td>W - Ht Water/Steam</td>\n",
              "      <td>NaN</td>\n",
              "      <td>N - None</td>\n",
              "      <td>NaN</td>\n",
              "      <td>NaN</td>\n",
              "      <td>NaN</td>\n",
              "      <td>A - Average</td>\n",
              "      <td>NaN</td>\n",
              "    </tr>\n",
              "    <tr>\n",
              "      <th>4</th>\n",
              "      <td>100005000</td>\n",
              "      <td>NaN</td>\n",
              "      <td>100005000.0</td>\n",
              "      <td>203</td>\n",
              "      <td>LEXINGTON ST</td>\n",
              "      <td>NaN</td>\n",
              "      <td>EAST BOSTON</td>\n",
              "      <td>2128</td>\n",
              "      <td>1.0</td>\n",
              "      <td>1.0</td>\n",
              "      <td>...</td>\n",
              "      <td>S - Semi-Modern</td>\n",
              "      <td>NaN</td>\n",
              "      <td>W - Ht Water/Steam</td>\n",
              "      <td>NaN</td>\n",
              "      <td>N - None</td>\n",
              "      <td>NaN</td>\n",
              "      <td>NaN</td>\n",
              "      <td>NaN</td>\n",
              "      <td>A - Average</td>\n",
              "      <td>NaN</td>\n",
              "    </tr>\n",
              "  </tbody>\n",
              "</table>\n",
              "<p>5 rows × 63 columns</p>\n",
              "</div>\n",
              "      <button class=\"colab-df-convert\" onclick=\"convertToInteractive('df-53b00dc2-fdb1-40b5-8773-be832429544a')\"\n",
              "              title=\"Convert this dataframe to an interactive table.\"\n",
              "              style=\"display:none;\">\n",
              "        \n",
              "  <svg xmlns=\"http://www.w3.org/2000/svg\" height=\"24px\"viewBox=\"0 0 24 24\"\n",
              "       width=\"24px\">\n",
              "    <path d=\"M0 0h24v24H0V0z\" fill=\"none\"/>\n",
              "    <path d=\"M18.56 5.44l.94 2.06.94-2.06 2.06-.94-2.06-.94-.94-2.06-.94 2.06-2.06.94zm-11 1L8.5 8.5l.94-2.06 2.06-.94-2.06-.94L8.5 2.5l-.94 2.06-2.06.94zm10 10l.94 2.06.94-2.06 2.06-.94-2.06-.94-.94-2.06-.94 2.06-2.06.94z\"/><path d=\"M17.41 7.96l-1.37-1.37c-.4-.4-.92-.59-1.43-.59-.52 0-1.04.2-1.43.59L10.3 9.45l-7.72 7.72c-.78.78-.78 2.05 0 2.83L4 21.41c.39.39.9.59 1.41.59.51 0 1.02-.2 1.41-.59l7.78-7.78 2.81-2.81c.8-.78.8-2.07 0-2.86zM5.41 20L4 18.59l7.72-7.72 1.47 1.35L5.41 20z\"/>\n",
              "  </svg>\n",
              "      </button>\n",
              "      \n",
              "  <style>\n",
              "    .colab-df-container {\n",
              "      display:flex;\n",
              "      flex-wrap:wrap;\n",
              "      gap: 12px;\n",
              "    }\n",
              "\n",
              "    .colab-df-convert {\n",
              "      background-color: #E8F0FE;\n",
              "      border: none;\n",
              "      border-radius: 50%;\n",
              "      cursor: pointer;\n",
              "      display: none;\n",
              "      fill: #1967D2;\n",
              "      height: 32px;\n",
              "      padding: 0 0 0 0;\n",
              "      width: 32px;\n",
              "    }\n",
              "\n",
              "    .colab-df-convert:hover {\n",
              "      background-color: #E2EBFA;\n",
              "      box-shadow: 0px 1px 2px rgba(60, 64, 67, 0.3), 0px 1px 3px 1px rgba(60, 64, 67, 0.15);\n",
              "      fill: #174EA6;\n",
              "    }\n",
              "\n",
              "    [theme=dark] .colab-df-convert {\n",
              "      background-color: #3B4455;\n",
              "      fill: #D2E3FC;\n",
              "    }\n",
              "\n",
              "    [theme=dark] .colab-df-convert:hover {\n",
              "      background-color: #434B5C;\n",
              "      box-shadow: 0px 1px 3px 1px rgba(0, 0, 0, 0.15);\n",
              "      filter: drop-shadow(0px 1px 2px rgba(0, 0, 0, 0.3));\n",
              "      fill: #FFFFFF;\n",
              "    }\n",
              "  </style>\n",
              "\n",
              "      <script>\n",
              "        const buttonEl =\n",
              "          document.querySelector('#df-53b00dc2-fdb1-40b5-8773-be832429544a button.colab-df-convert');\n",
              "        buttonEl.style.display =\n",
              "          google.colab.kernel.accessAllowed ? 'block' : 'none';\n",
              "\n",
              "        async function convertToInteractive(key) {\n",
              "          const element = document.querySelector('#df-53b00dc2-fdb1-40b5-8773-be832429544a');\n",
              "          const dataTable =\n",
              "            await google.colab.kernel.invokeFunction('convertToInteractive',\n",
              "                                                     [key], {});\n",
              "          if (!dataTable) return;\n",
              "\n",
              "          const docLinkHtml = 'Like what you see? Visit the ' +\n",
              "            '<a target=\"_blank\" href=https://colab.research.google.com/notebooks/data_table.ipynb>data table notebook</a>'\n",
              "            + ' to learn more about interactive tables.';\n",
              "          element.innerHTML = '';\n",
              "          dataTable['output_type'] = 'display_data';\n",
              "          await google.colab.output.renderOutput(dataTable, element);\n",
              "          const docLink = document.createElement('div');\n",
              "          docLink.innerHTML = docLinkHtml;\n",
              "          element.appendChild(docLink);\n",
              "        }\n",
              "      </script>\n",
              "    </div>\n",
              "  </div>\n",
              "  "
            ],
            "text/plain": [
              "         PID  CM_ID       GIS_ID     ST_NUM       ST_NAME UNIT_NUM  \\\n",
              "0  100001000    NaN  100001000.0  104 A 104     PUTNAM ST      NaN   \n",
              "1  100002000    NaN  100002000.0        197  LEXINGTON ST      NaN   \n",
              "2  100003000    NaN  100003000.0        199  LEXINGTON ST      NaN   \n",
              "3  100004000    NaN  100004000.0        201  LEXINGTON ST      NaN   \n",
              "4  100005000    NaN  100005000.0        203  LEXINGTON ST      NaN   \n",
              "\n",
              "          CITY  ZIPCODE  BLDG_SEQ  NUM_BLDGS  ...   KITCHEN_STYLE2  \\\n",
              "0  EAST BOSTON     2128       1.0        1.0  ...  S - Semi-Modern   \n",
              "1  EAST BOSTON     2128       1.0        1.0  ...       M - Modern   \n",
              "2  EAST BOSTON     2128       1.0        1.0  ...  S - Semi-Modern   \n",
              "3  EAST BOSTON     2128       1.0        1.0  ...  S - Semi-Modern   \n",
              "4  EAST BOSTON     2128       1.0        1.0  ...  S - Semi-Modern   \n",
              "\n",
              "    KITCHEN_STYLE3           HEAT_TYPE HEAT_FUEL         AC_TYPE FIRE_PLACE  \\\n",
              "0  S - Semi-Modern  W - Ht Water/Steam       NaN        N - None        NaN   \n",
              "1       M - Modern  F - Forced Hot Air       NaN  C - Central AC        NaN   \n",
              "2  S - Semi-Modern      S - Space Heat       NaN        N - None        NaN   \n",
              "3  S - Semi-Modern  W - Ht Water/Steam       NaN        N - None        NaN   \n",
              "4              NaN  W - Ht Water/Steam       NaN        N - None        NaN   \n",
              "\n",
              "  PlUMBING NUM_PARKING    PROP_VIEW CORNER_UNIT  \n",
              "0      NaN         3.0  A - Average         NaN  \n",
              "1      NaN         NaN  A - Average         NaN  \n",
              "2      NaN         NaN  A - Average         NaN  \n",
              "3      NaN         NaN  A - Average         NaN  \n",
              "4      NaN         NaN  A - Average         NaN  \n",
              "\n",
              "[5 rows x 63 columns]"
            ]
          },
          "execution_count": 3,
          "metadata": {},
          "output_type": "execute_result"
        }
      ],
      "source": [
        "prop_assess.head(5)"
      ]
    },
    {
      "cell_type": "code",
      "execution_count": null,
      "metadata": {
        "colab": {
          "base_uri": "https://localhost:8080/"
        },
        "id": "ndHccruHhAa5",
        "outputId": "0d37fdea-8da7-42ea-e516-cbcbdbe4364a"
      },
      "outputs": [
        {
          "data": {
            "text/plain": [
              "(177091, 63)"
            ]
          },
          "execution_count": 4,
          "metadata": {},
          "output_type": "execute_result"
        }
      ],
      "source": [
        "prop_assess.shape"
      ]
    },
    {
      "cell_type": "markdown",
      "metadata": {
        "id": "sWjctX5nhAa5"
      },
      "source": [
        "### Filter Rows"
      ]
    },
    {
      "cell_type": "code",
      "execution_count": null,
      "metadata": {
        "colab": {
          "base_uri": "https://localhost:8080/"
        },
        "id": "--GrAi1ihAa5",
        "outputId": "fed95571-1b5a-44d0-fab1-839e41fb95f0"
      },
      "outputs": [
        {
          "data": {
            "text/plain": [
              "array(['EAST BOSTON', 'BOSTON', 'JAMAICA PLAIN', 'CHARLESTOWN', 'ROXBURY',\n",
              "       'SOUTH BOSTON', 'ROXBURY CROSSIN', 'DORCHESTER', 'ROSLINDALE',\n",
              "       'MATTAPAN', 'HYDE PARK', 'READVILLE', 'BRIGHTON', 'WEST ROXBURY',\n",
              "       'CHESTNUT HILL', 'DEDHAM', 'ALLSTON', 'BROOKLINE'], dtype=object)"
            ]
          },
          "execution_count": 5,
          "metadata": {},
          "output_type": "execute_result"
        }
      ],
      "source": [
        "#Get distinct values for City\n",
        "prop_assess[\"CITY\"].unique()"
      ]
    },
    {
      "cell_type": "code",
      "execution_count": null,
      "metadata": {
        "colab": {
          "base_uri": "https://localhost:8080/"
        },
        "id": "QkhTIkjmhAa6",
        "outputId": "1357852d-dca3-41b1-b5b0-2a221fa63491"
      },
      "outputs": [
        {
          "data": {
            "text/plain": [
              "array(['THREE-FAM DWELLING', 'TWO-FAM DWELLING', 'CONDO MAIN',\n",
              "       'RESIDENTIAL CONDO', 'SINGLE FAM DWELLING', 'MULTIPLE BLDGS/1 LOT',\n",
              "       'APT 4-6 UNITS', 'RESTAURANT/Lounge', 'RES /COMMERCIAL USE',\n",
              "       'SELF-SERV STATION', 'COMM MULTI-USE', 'RET/WHSL/SERVICE',\n",
              "       'RETAIL STORE DETACH', 'OFFICE 1-2 STORY', 'CITY OF BOSTON',\n",
              "       'RES LAND (Unusable)', 'OTHER EXEMPT BLDG', 'REPAIR GARAGE',\n",
              "       'RES ANCILL IMPROVEMT', 'APT 7-30 UNITS', 'PARKING LOT',\n",
              "       'OFFICE: INDUSTRIAL', 'WAREHOUSE /DISTRIB', 'STRIP CTR STORES',\n",
              "       'RESTAURANT/Cafeteria', 'MEDICAL OFFICE', 'COM BILLBOARD',\n",
              "       'Commonwealth of Mass', 'OTHER PUBLIC LAND', 'COMMERCIAL LAND',\n",
              "       'PAY PARKING LOT', 'COM LAND (Unusable)', 'MINI-STORAGE WHSE',\n",
              "       'TANKS: Above Ground', 'STEAM/WATER/SEWER', 'CAR WASH',\n",
              "       'FAST FOOD Restaurant', 'OFFICE 3-9 STORY', 'OLD WHSE, GARAGE',\n",
              "       'HOTEL', 'LUXURY APARTMENT', 'SUBSD HOUSING S- 8',\n",
              "       'COM LAND (Secondary)', 'RESIDENTIAL LAND', 'PRIV SCHOOL /COLLEGE',\n",
              "       'BANK BUILDING', 'SOCIAL CLUB', 'SCHOOL', 'CHURCH, SYNAGOGUE',\n",
              "       'TRAINING /PRIV EDUC', 'ACTIVITY/ Social Center',\n",
              "       'WHSE: INDUSTRIAL', 'BOS HOUSING AUTHOR', 'BOST REDEVELOP AUTH',\n",
              "       'CELL CARRIER', 'RES LAND (Secondary)', 'RETAIL CONDO',\n",
              "       'Laundromat /Cleaner', 'AIR FREIGHT TERMINAL', 'TRUCK TERMINAL',\n",
              "       'RELIGIOUS Organization', 'NURSING /CONV HOME', 'EXEMPT 121A PROP',\n",
              "       'CONDO PARKING (RES)', 'COMM  CONDO', 'COMM PKG GARAGE',\n",
              "       'CHARITABLE Organization', 'ROOMING HOUSE', 'IND LAND (SECONDARY)',\n",
              "       'INDUSTRIAL LAND', 'FOOD PROCESS PLANT', 'ADMINISTRATIVE BLDG',\n",
              "       'OLD MANUFACTURING', 'RECTORY, CONVENT', 'LIBRARY',\n",
              "       'RECREATION BLDG', 'VETERINARY HOSPITAL', 'BOAT HOUSE /MARINA',\n",
              "       'LIGHT MFG/ R & D', 'BOAT REPAIR/ Storage', 'EXM NON-PUBLIC LAND',\n",
              "       'AUDITORIUM /THEATER', 'GYM /Athletic Bldg',\n",
              "       'MACHINE SHOP (small)', 'OFFICE (ATTACHED)', 'OFFICE CONDO',\n",
              "       'FIRE STATION', 'ELDERLY HOME', 'LABORATORY',\n",
              "       'OFFICE CONDO exempt', 'POSTAL SERVICE', 'RES PARKING LOT',\n",
              "       'TELECOM EQUIP(MULTIPLE)', 'COMPUTER EQUIP BLDG', 'BAR/TAVERN/PUB',\n",
              "       'BANK ATM', 'SUPERMARKET', 'BOWLING ALLEY', 'FUNERAL HOME',\n",
              "       'WATER TREATMT PLANT', 'HOSPITAL (exempt)',\n",
              "       'REHAB /Convalescent facility', 'MEDICAL CLINIC Outpatient',\n",
              "       'OFFICE CLS B+', 'HEALTH SPA /CLUB', 'ELEC SUBSTATION',\n",
              "       'YARD RENTAL', 'MAINTENANCE/Service Bldg', 'IND LAND (UNUSABLE)',\n",
              "       'STORAGE ANCILLARY', 'INDUSTRIAL LOFT', 'OFFICE /Administration',\n",
              "       'COLD STORAGE WHSE', 'POLICE STATION', 'ATHLETIC /SPORTS CTR',\n",
              "       'NEW MANUFACTURING', 'INDUSTRIAL/ MFG BLDG',\n",
              "       'OFFICE CONDO: EXEMPT', 'RESIDENTIAL CONDO exmp',\n",
              "       'U.S. GOVERNMENT', 'APARTMENT BLDG', 'APT 31-99 UNITS',\n",
              "       'COM Underwater Land', 'MASS HIGHWAY DEPT', 'OFFICE CLS B',\n",
              "       \"GOV'T OFFICE BLDG\", 'SERVICE Center/Retail', 'LODGING SUITES',\n",
              "       'SUBSD HOUSING S-231D', 'CONDO STORAGE (RES)', 'OFFICE CLS A-',\n",
              "       'RES PARKING GARAGE', 'Subterranean Garage', 'PARKING GARAGE',\n",
              "       'DAY CARE CENTER', 'INDUSTR CONDO', 'PARKING high vol',\n",
              "       'NIGHT CLUB', 'INN, RESORT', 'AIR RIGHTS PROPERTY',\n",
              "       'AUDITORIUM/Sport Center', 'CORRECTIONAL BLDG',\n",
              "       'STUDIO /Remote Control', 'OFFICE CLS A', 'CLASSROOM',\n",
              "       'COLLEGE (academic)', 'DORMITORY  rm', 'RETAIL USE (exempt)',\n",
              "       'RETAIL CONDO exempt', 'STAGE THEATER', 'MOVIE THEATER',\n",
              "       'DEPARTMENT STORE', 'PRIV CITY CLUB', 'DORMITORY  bd',\n",
              "       'TENNIS/ RACQUET CLUB', 'DORM /Residence Hall',\n",
              "       'LABORATORY/Medical/Biology', 'ELEC POWER PLANT',\n",
              "       'SUBSD HOUSING S-202', 'CONDO PARKING (COM)', 'APT 100+ UNITS',\n",
              "       'MOTEL', 'DAY CARE', 'HVAC Equip/Utility Bldg', 'SHOWROOM',\n",
              "       'METAL PROCESSING', 'WAREHOUSE', 'Mass: other property',\n",
              "       'AUTO SUPPLY/Service', 'DISCOUNT STORE', 'BOTTLING PLANT',\n",
              "       'LAUNDRY OPERATION', 'ARTIST STUDIO', 'STORAGE Area /Supplies',\n",
              "       'RADIO/TV TRANS FACIL', 'MUSEUM, GALLERY',\n",
              "       'ASSISTED LIVING/ Elderly', 'AUTO SALVAGE YARD', 'RADIO/TV STUDIO',\n",
              "       'CONVENTION CTR/HOTEL', 'MA DEPT OF MENTAL HEALTH',\n",
              "       'Metropolitan Dist Com(MDC', 'GAS STORAGE', 'ARMORY (MILITARY)',\n",
              "       'PRIVATE HOSPITAL', 'CEMETERY', 'Incineration Plant',\n",
              "       'COM GREENHOUSE', 'BLDG: CHAP 61A LAND', 'DAIRY',\n",
              "       'MINING QUARRYING', 'MOBILE HOME', 'COMPUTER /SCIENCE LAB'],\n",
              "      dtype=object)"
            ]
          },
          "execution_count": 6,
          "metadata": {},
          "output_type": "execute_result"
        }
      ],
      "source": [
        "#Get distinct values for LU_Desc\n",
        "prop_assess['LU_DESC'].unique()"
      ]
    },
    {
      "cell_type": "code",
      "execution_count": 32,
      "metadata": {
        "colab": {
          "base_uri": "https://localhost:8080/",
          "height": 369
        },
        "id": "Zo44katuhAa6",
        "outputId": "751429d5-895c-4021-ae04-1f5129e0525c"
      },
      "outputs": [
        {
          "data": {
            "text/html": [
              "<div>\n",
              "<style scoped>\n",
              "    .dataframe tbody tr th:only-of-type {\n",
              "        vertical-align: middle;\n",
              "    }\n",
              "\n",
              "    .dataframe tbody tr th {\n",
              "        vertical-align: top;\n",
              "    }\n",
              "\n",
              "    .dataframe thead th {\n",
              "        text-align: right;\n",
              "    }\n",
              "</style>\n",
              "<table border=\"1\" class=\"dataframe\">\n",
              "  <thead>\n",
              "    <tr style=\"text-align: right;\">\n",
              "      <th></th>\n",
              "      <th>PID</th>\n",
              "      <th>CM_ID</th>\n",
              "      <th>GIS_ID</th>\n",
              "      <th>ST_NUM</th>\n",
              "      <th>ST_NAME</th>\n",
              "      <th>UNIT_NUM</th>\n",
              "      <th>CITY</th>\n",
              "      <th>ZIPCODE</th>\n",
              "      <th>BLDG_SEQ</th>\n",
              "      <th>NUM_BLDGS</th>\n",
              "      <th>...</th>\n",
              "      <th>KITCHEN_STYLE2</th>\n",
              "      <th>KITCHEN_STYLE3</th>\n",
              "      <th>HEAT_TYPE</th>\n",
              "      <th>HEAT_FUEL</th>\n",
              "      <th>AC_TYPE</th>\n",
              "      <th>FIRE_PLACE</th>\n",
              "      <th>PlUMBING</th>\n",
              "      <th>NUM_PARKING</th>\n",
              "      <th>PROP_VIEW</th>\n",
              "      <th>CORNER_UNIT</th>\n",
              "    </tr>\n",
              "  </thead>\n",
              "  <tbody>\n",
              "    <tr>\n",
              "      <th>9611</th>\n",
              "      <td>0200212010</td>\n",
              "      <td>0200212010</td>\n",
              "      <td>0200212010</td>\n",
              "      <td>67</td>\n",
              "      <td>GREEN ST</td>\n",
              "      <td>NaN</td>\n",
              "      <td>ROXBURY</td>\n",
              "      <td>02119</td>\n",
              "      <td>1</td>\n",
              "      <td>1</td>\n",
              "      <td>...</td>\n",
              "      <td>NaN</td>\n",
              "      <td>NaN</td>\n",
              "      <td>NaN</td>\n",
              "      <td>NaN</td>\n",
              "      <td>NaN</td>\n",
              "      <td>NaN</td>\n",
              "      <td>NaN</td>\n",
              "      <td>NaN</td>\n",
              "      <td>NaN</td>\n",
              "      <td>NaN</td>\n",
              "    </tr>\n",
              "    <tr>\n",
              "      <th>34603</th>\n",
              "      <td>0400554188</td>\n",
              "      <td>0400554010</td>\n",
              "      <td>0400554010</td>\n",
              "      <td>301  319</td>\n",
              "      <td>COLUMBUS AV</td>\n",
              "      <td>37</td>\n",
              "      <td>ROXBURY</td>\n",
              "      <td>02119</td>\n",
              "      <td>1</td>\n",
              "      <td>1</td>\n",
              "      <td>...</td>\n",
              "      <td>NaN</td>\n",
              "      <td>NaN</td>\n",
              "      <td>NaN</td>\n",
              "      <td>NaN</td>\n",
              "      <td>NaN</td>\n",
              "      <td>NaN</td>\n",
              "      <td>NaN</td>\n",
              "      <td>NaN</td>\n",
              "      <td>NaN</td>\n",
              "      <td>NaN</td>\n",
              "    </tr>\n",
              "    <tr>\n",
              "      <th>38263</th>\n",
              "      <td>0402025000</td>\n",
              "      <td>NaN</td>\n",
              "      <td>0402025000</td>\n",
              "      <td>105  117</td>\n",
              "      <td>WARD ST</td>\n",
              "      <td>NaN</td>\n",
              "      <td>ROXBURY CROSSIN</td>\n",
              "      <td>02120</td>\n",
              "      <td>1</td>\n",
              "      <td>1</td>\n",
              "      <td>...</td>\n",
              "      <td>NaN</td>\n",
              "      <td>NaN</td>\n",
              "      <td>NaN</td>\n",
              "      <td>NaN</td>\n",
              "      <td>NaN</td>\n",
              "      <td>NaN</td>\n",
              "      <td>NaN</td>\n",
              "      <td>NaN</td>\n",
              "      <td>NaN</td>\n",
              "      <td>NaN</td>\n",
              "    </tr>\n",
              "    <tr>\n",
              "      <th>38264</th>\n",
              "      <td>0402026000</td>\n",
              "      <td>NaN</td>\n",
              "      <td>0402026000</td>\n",
              "      <td>143</td>\n",
              "      <td>WARD ST</td>\n",
              "      <td>NaN</td>\n",
              "      <td>ROXBURY CROSSIN</td>\n",
              "      <td>02120</td>\n",
              "      <td>1</td>\n",
              "      <td>1</td>\n",
              "      <td>...</td>\n",
              "      <td>NaN</td>\n",
              "      <td>NaN</td>\n",
              "      <td>NaN</td>\n",
              "      <td>NaN</td>\n",
              "      <td>NaN</td>\n",
              "      <td>NaN</td>\n",
              "      <td>NaN</td>\n",
              "      <td>NaN</td>\n",
              "      <td>NaN</td>\n",
              "      <td>NaN</td>\n",
              "    </tr>\n",
              "    <tr>\n",
              "      <th>38279</th>\n",
              "      <td>0402042000</td>\n",
              "      <td>NaN</td>\n",
              "      <td>0402042000</td>\n",
              "      <td>NaN</td>\n",
              "      <td>PRENTISS ST</td>\n",
              "      <td>NaN</td>\n",
              "      <td>ROXBURY CROSSIN</td>\n",
              "      <td>02120</td>\n",
              "      <td>1</td>\n",
              "      <td>1</td>\n",
              "      <td>...</td>\n",
              "      <td>NaN</td>\n",
              "      <td>NaN</td>\n",
              "      <td>NaN</td>\n",
              "      <td>NaN</td>\n",
              "      <td>NaN</td>\n",
              "      <td>NaN</td>\n",
              "      <td>NaN</td>\n",
              "      <td>NaN</td>\n",
              "      <td>NaN</td>\n",
              "      <td>NaN</td>\n",
              "    </tr>\n",
              "  </tbody>\n",
              "</table>\n",
              "<p>5 rows × 63 columns</p>\n",
              "</div>"
            ],
            "text/plain": [
              "              PID       CM_ID      GIS_ID    ST_NUM      ST_NAME UNIT_NUM  \\\n",
              "9611   0200212010  0200212010  0200212010        67     GREEN ST      NaN   \n",
              "34603  0400554188  0400554010  0400554010  301  319  COLUMBUS AV       37   \n",
              "38263  0402025000         NaN  0402025000  105  117      WARD ST      NaN   \n",
              "38264  0402026000         NaN  0402026000       143      WARD ST      NaN   \n",
              "38279  0402042000         NaN  0402042000       NaN  PRENTISS ST      NaN   \n",
              "\n",
              "                  CITY ZIPCODE BLDG_SEQ NUM_BLDGS  ... KITCHEN_STYLE2  \\\n",
              "9611           ROXBURY   02119        1         1  ...            NaN   \n",
              "34603          ROXBURY   02119        1         1  ...            NaN   \n",
              "38263  ROXBURY CROSSIN   02120        1         1  ...            NaN   \n",
              "38264  ROXBURY CROSSIN   02120        1         1  ...            NaN   \n",
              "38279  ROXBURY CROSSIN   02120        1         1  ...            NaN   \n",
              "\n",
              "      KITCHEN_STYLE3 HEAT_TYPE HEAT_FUEL AC_TYPE FIRE_PLACE PlUMBING  \\\n",
              "9611             NaN       NaN       NaN     NaN        NaN      NaN   \n",
              "34603            NaN       NaN       NaN     NaN        NaN      NaN   \n",
              "38263            NaN       NaN       NaN     NaN        NaN      NaN   \n",
              "38264            NaN       NaN       NaN     NaN        NaN      NaN   \n",
              "38279            NaN       NaN       NaN     NaN        NaN      NaN   \n",
              "\n",
              "      NUM_PARKING PROP_VIEW CORNER_UNIT  \n",
              "9611          NaN       NaN         NaN  \n",
              "34603         NaN       NaN         NaN  \n",
              "38263         NaN       NaN         NaN  \n",
              "38264         NaN       NaN         NaN  \n",
              "38279         NaN       NaN         NaN  \n",
              "\n",
              "[5 rows x 63 columns]"
            ]
          },
          "execution_count": 32,
          "metadata": {},
          "output_type": "execute_result"
        }
      ],
      "source": [
        "#filter cities\n",
        "prop_assess2 = prop_assess[prop_assess['CITY'].isin(['MATTAPAN', 'DORCHESTER', 'ROXBURY', 'ROXBURY CROSSIN'])]\n",
        "prop_assess2.head()"
      ]
    },
    {
      "cell_type": "code",
      "execution_count": 33,
      "metadata": {
        "colab": {
          "base_uri": "https://localhost:8080/",
          "height": 404
        },
        "id": "h5YJPlUHhAa6",
        "outputId": "91b8f9a0-1e72-4332-ebaf-092d420ce0e5"
      },
      "outputs": [
        {
          "data": {
            "text/html": [
              "<div>\n",
              "<style scoped>\n",
              "    .dataframe tbody tr th:only-of-type {\n",
              "        vertical-align: middle;\n",
              "    }\n",
              "\n",
              "    .dataframe tbody tr th {\n",
              "        vertical-align: top;\n",
              "    }\n",
              "\n",
              "    .dataframe thead th {\n",
              "        text-align: right;\n",
              "    }\n",
              "</style>\n",
              "<table border=\"1\" class=\"dataframe\">\n",
              "  <thead>\n",
              "    <tr style=\"text-align: right;\">\n",
              "      <th></th>\n",
              "      <th>PID</th>\n",
              "      <th>CM_ID</th>\n",
              "      <th>GIS_ID</th>\n",
              "      <th>ST_NUM</th>\n",
              "      <th>ST_NAME</th>\n",
              "      <th>UNIT_NUM</th>\n",
              "      <th>CITY</th>\n",
              "      <th>ZIPCODE</th>\n",
              "      <th>BLDG_SEQ</th>\n",
              "      <th>NUM_BLDGS</th>\n",
              "      <th>...</th>\n",
              "      <th>KITCHEN_STYLE2</th>\n",
              "      <th>KITCHEN_STYLE3</th>\n",
              "      <th>HEAT_TYPE</th>\n",
              "      <th>HEAT_FUEL</th>\n",
              "      <th>AC_TYPE</th>\n",
              "      <th>FIRE_PLACE</th>\n",
              "      <th>PlUMBING</th>\n",
              "      <th>NUM_PARKING</th>\n",
              "      <th>PROP_VIEW</th>\n",
              "      <th>CORNER_UNIT</th>\n",
              "    </tr>\n",
              "  </thead>\n",
              "  <tbody>\n",
              "    <tr>\n",
              "      <th>71526</th>\n",
              "      <td>0702728000</td>\n",
              "      <td>NaN</td>\n",
              "      <td>0702728000</td>\n",
              "      <td>141</td>\n",
              "      <td>BUTTONWOOD ST</td>\n",
              "      <td>NaN</td>\n",
              "      <td>DORCHESTER</td>\n",
              "      <td>02125</td>\n",
              "      <td>1</td>\n",
              "      <td>1</td>\n",
              "      <td>...</td>\n",
              "      <td>NaN</td>\n",
              "      <td>NaN</td>\n",
              "      <td>F - Forced Hot Air</td>\n",
              "      <td>NaN</td>\n",
              "      <td>N - None</td>\n",
              "      <td>NaN</td>\n",
              "      <td>NaN</td>\n",
              "      <td>2</td>\n",
              "      <td>F - Fair</td>\n",
              "      <td>NaN</td>\n",
              "    </tr>\n",
              "    <tr>\n",
              "      <th>71529</th>\n",
              "      <td>0702731000</td>\n",
              "      <td>NaN</td>\n",
              "      <td>0702731000</td>\n",
              "      <td>8</td>\n",
              "      <td>LOCUST ST</td>\n",
              "      <td>NaN</td>\n",
              "      <td>DORCHESTER</td>\n",
              "      <td>02125</td>\n",
              "      <td>1</td>\n",
              "      <td>1</td>\n",
              "      <td>...</td>\n",
              "      <td>NaN</td>\n",
              "      <td>NaN</td>\n",
              "      <td>W - Ht Water/Steam</td>\n",
              "      <td>NaN</td>\n",
              "      <td>N - None</td>\n",
              "      <td>NaN</td>\n",
              "      <td>NaN</td>\n",
              "      <td>NaN</td>\n",
              "      <td>F - Fair</td>\n",
              "      <td>NaN</td>\n",
              "    </tr>\n",
              "    <tr>\n",
              "      <th>71544</th>\n",
              "      <td>0702743000</td>\n",
              "      <td>NaN</td>\n",
              "      <td>0702743000</td>\n",
              "      <td>19</td>\n",
              "      <td>LOCUST ST</td>\n",
              "      <td>NaN</td>\n",
              "      <td>DORCHESTER</td>\n",
              "      <td>02125</td>\n",
              "      <td>1</td>\n",
              "      <td>1</td>\n",
              "      <td>...</td>\n",
              "      <td>NaN</td>\n",
              "      <td>NaN</td>\n",
              "      <td>F - Forced Hot Air</td>\n",
              "      <td>NaN</td>\n",
              "      <td>N - None</td>\n",
              "      <td>NaN</td>\n",
              "      <td>NaN</td>\n",
              "      <td>2</td>\n",
              "      <td>F - Fair</td>\n",
              "      <td>NaN</td>\n",
              "    </tr>\n",
              "    <tr>\n",
              "      <th>71545</th>\n",
              "      <td>0702744000</td>\n",
              "      <td>NaN</td>\n",
              "      <td>0702744000</td>\n",
              "      <td>132</td>\n",
              "      <td>BUTTONWOOD ST</td>\n",
              "      <td>NaN</td>\n",
              "      <td>DORCHESTER</td>\n",
              "      <td>02125</td>\n",
              "      <td>1</td>\n",
              "      <td>1</td>\n",
              "      <td>...</td>\n",
              "      <td>S - Semi-Modern</td>\n",
              "      <td>S - Semi-Modern</td>\n",
              "      <td>W - Ht Water/Steam</td>\n",
              "      <td>NaN</td>\n",
              "      <td>N - None</td>\n",
              "      <td>NaN</td>\n",
              "      <td>NaN</td>\n",
              "      <td>3</td>\n",
              "      <td>A - Average</td>\n",
              "      <td>NaN</td>\n",
              "    </tr>\n",
              "    <tr>\n",
              "      <th>71546</th>\n",
              "      <td>0702744001</td>\n",
              "      <td>NaN</td>\n",
              "      <td>0702744001</td>\n",
              "      <td>128</td>\n",
              "      <td>BUTTONWOOD ST</td>\n",
              "      <td>NaN</td>\n",
              "      <td>DORCHESTER</td>\n",
              "      <td>02125</td>\n",
              "      <td>1</td>\n",
              "      <td>1</td>\n",
              "      <td>...</td>\n",
              "      <td>M - Modern</td>\n",
              "      <td>M - Modern</td>\n",
              "      <td>F - Forced Hot Air</td>\n",
              "      <td>NaN</td>\n",
              "      <td>C - Central AC</td>\n",
              "      <td>NaN</td>\n",
              "      <td>NaN</td>\n",
              "      <td>2</td>\n",
              "      <td>A - Average</td>\n",
              "      <td>NaN</td>\n",
              "    </tr>\n",
              "  </tbody>\n",
              "</table>\n",
              "<p>5 rows × 63 columns</p>\n",
              "</div>"
            ],
            "text/plain": [
              "              PID CM_ID      GIS_ID ST_NUM        ST_NAME UNIT_NUM  \\\n",
              "71526  0702728000   NaN  0702728000    141  BUTTONWOOD ST      NaN   \n",
              "71529  0702731000   NaN  0702731000      8      LOCUST ST      NaN   \n",
              "71544  0702743000   NaN  0702743000     19      LOCUST ST      NaN   \n",
              "71545  0702744000   NaN  0702744000    132  BUTTONWOOD ST      NaN   \n",
              "71546  0702744001   NaN  0702744001    128  BUTTONWOOD ST      NaN   \n",
              "\n",
              "             CITY ZIPCODE BLDG_SEQ NUM_BLDGS  ...   KITCHEN_STYLE2  \\\n",
              "71526  DORCHESTER   02125        1         1  ...              NaN   \n",
              "71529  DORCHESTER   02125        1         1  ...              NaN   \n",
              "71544  DORCHESTER   02125        1         1  ...              NaN   \n",
              "71545  DORCHESTER   02125        1         1  ...  S - Semi-Modern   \n",
              "71546  DORCHESTER   02125        1         1  ...       M - Modern   \n",
              "\n",
              "        KITCHEN_STYLE3           HEAT_TYPE HEAT_FUEL         AC_TYPE  \\\n",
              "71526              NaN  F - Forced Hot Air       NaN        N - None   \n",
              "71529              NaN  W - Ht Water/Steam       NaN        N - None   \n",
              "71544              NaN  F - Forced Hot Air       NaN        N - None   \n",
              "71545  S - Semi-Modern  W - Ht Water/Steam       NaN        N - None   \n",
              "71546       M - Modern  F - Forced Hot Air       NaN  C - Central AC   \n",
              "\n",
              "      FIRE_PLACE PlUMBING NUM_PARKING    PROP_VIEW CORNER_UNIT  \n",
              "71526        NaN      NaN           2     F - Fair         NaN  \n",
              "71529        NaN      NaN         NaN     F - Fair         NaN  \n",
              "71544        NaN      NaN           2     F - Fair         NaN  \n",
              "71545        NaN      NaN           3  A - Average         NaN  \n",
              "71546        NaN      NaN           2  A - Average         NaN  \n",
              "\n",
              "[5 rows x 63 columns]"
            ]
          },
          "execution_count": 33,
          "metadata": {},
          "output_type": "execute_result"
        }
      ],
      "source": [
        "#filter to 1, 2, & 3 family homes\n",
        "prop_assess3 = prop_assess2[prop_assess2['LU_DESC'].isin(['THREE-FAM DWELLING', 'TWO-FAM DWELLING', 'SINGLE FAM DWELLING'])]\n",
        "prop_assess3.head()"
      ]
    },
    {
      "cell_type": "code",
      "execution_count": 34,
      "metadata": {
        "colab": {
          "base_uri": "https://localhost:8080/",
          "height": 438
        },
        "id": "XwNt6fYBhAa6",
        "outputId": "b6b702aa-6daf-4ae2-932d-becad5566ab8"
      },
      "outputs": [
        {
          "data": {
            "text/html": [
              "<div>\n",
              "<style scoped>\n",
              "    .dataframe tbody tr th:only-of-type {\n",
              "        vertical-align: middle;\n",
              "    }\n",
              "\n",
              "    .dataframe tbody tr th {\n",
              "        vertical-align: top;\n",
              "    }\n",
              "\n",
              "    .dataframe thead th {\n",
              "        text-align: right;\n",
              "    }\n",
              "</style>\n",
              "<table border=\"1\" class=\"dataframe\">\n",
              "  <thead>\n",
              "    <tr style=\"text-align: right;\">\n",
              "      <th></th>\n",
              "      <th>PID</th>\n",
              "      <th>CM_ID</th>\n",
              "      <th>GIS_ID</th>\n",
              "      <th>ST_NUM</th>\n",
              "      <th>ST_NAME</th>\n",
              "      <th>UNIT_NUM</th>\n",
              "      <th>CITY</th>\n",
              "      <th>ZIPCODE</th>\n",
              "      <th>BLDG_SEQ</th>\n",
              "      <th>NUM_BLDGS</th>\n",
              "      <th>...</th>\n",
              "      <th>KITCHEN_STYLE2</th>\n",
              "      <th>KITCHEN_STYLE3</th>\n",
              "      <th>HEAT_TYPE</th>\n",
              "      <th>HEAT_FUEL</th>\n",
              "      <th>AC_TYPE</th>\n",
              "      <th>FIRE_PLACE</th>\n",
              "      <th>PlUMBING</th>\n",
              "      <th>NUM_PARKING</th>\n",
              "      <th>PROP_VIEW</th>\n",
              "      <th>CORNER_UNIT</th>\n",
              "    </tr>\n",
              "  </thead>\n",
              "  <tbody>\n",
              "    <tr>\n",
              "      <th>71546</th>\n",
              "      <td>0702744001</td>\n",
              "      <td>NaN</td>\n",
              "      <td>0702744001</td>\n",
              "      <td>128</td>\n",
              "      <td>BUTTONWOOD ST</td>\n",
              "      <td>NaN</td>\n",
              "      <td>DORCHESTER</td>\n",
              "      <td>02125</td>\n",
              "      <td>1</td>\n",
              "      <td>1</td>\n",
              "      <td>...</td>\n",
              "      <td>M - Modern</td>\n",
              "      <td>M - Modern</td>\n",
              "      <td>F - Forced Hot Air</td>\n",
              "      <td>NaN</td>\n",
              "      <td>C - Central AC</td>\n",
              "      <td>NaN</td>\n",
              "      <td>NaN</td>\n",
              "      <td>2</td>\n",
              "      <td>A - Average</td>\n",
              "      <td>NaN</td>\n",
              "    </tr>\n",
              "    <tr>\n",
              "      <th>71547</th>\n",
              "      <td>0702745000</td>\n",
              "      <td>NaN</td>\n",
              "      <td>0702745000</td>\n",
              "      <td>124</td>\n",
              "      <td>BUTTONWOOD ST</td>\n",
              "      <td>NaN</td>\n",
              "      <td>DORCHESTER</td>\n",
              "      <td>02125</td>\n",
              "      <td>1</td>\n",
              "      <td>1</td>\n",
              "      <td>...</td>\n",
              "      <td>S - Semi-Modern</td>\n",
              "      <td>S - Semi-Modern</td>\n",
              "      <td>F - Forced Hot Air</td>\n",
              "      <td>NaN</td>\n",
              "      <td>N - None</td>\n",
              "      <td>NaN</td>\n",
              "      <td>NaN</td>\n",
              "      <td>NaN</td>\n",
              "      <td>A - Average</td>\n",
              "      <td>NaN</td>\n",
              "    </tr>\n",
              "    <tr>\n",
              "      <th>71549</th>\n",
              "      <td>0702747000</td>\n",
              "      <td>NaN</td>\n",
              "      <td>0702747000</td>\n",
              "      <td>120</td>\n",
              "      <td>BUTTONWOOD ST</td>\n",
              "      <td>NaN</td>\n",
              "      <td>DORCHESTER</td>\n",
              "      <td>02125</td>\n",
              "      <td>1</td>\n",
              "      <td>1</td>\n",
              "      <td>...</td>\n",
              "      <td>NaN</td>\n",
              "      <td>NaN</td>\n",
              "      <td>W - Ht Water/Steam</td>\n",
              "      <td>NaN</td>\n",
              "      <td>D - Ductless AC</td>\n",
              "      <td>NaN</td>\n",
              "      <td>NaN</td>\n",
              "      <td>NaN</td>\n",
              "      <td>A - Average</td>\n",
              "      <td>NaN</td>\n",
              "    </tr>\n",
              "    <tr>\n",
              "      <th>71556</th>\n",
              "      <td>0702752000</td>\n",
              "      <td>NaN</td>\n",
              "      <td>0702752000</td>\n",
              "      <td>100</td>\n",
              "      <td>BUTTONWOOD ST</td>\n",
              "      <td>NaN</td>\n",
              "      <td>DORCHESTER</td>\n",
              "      <td>02125</td>\n",
              "      <td>1</td>\n",
              "      <td>1</td>\n",
              "      <td>...</td>\n",
              "      <td>NaN</td>\n",
              "      <td>NaN</td>\n",
              "      <td>F - Forced Hot Air</td>\n",
              "      <td>NaN</td>\n",
              "      <td>N - None</td>\n",
              "      <td>NaN</td>\n",
              "      <td>NaN</td>\n",
              "      <td>NaN</td>\n",
              "      <td>A - Average</td>\n",
              "      <td>NaN</td>\n",
              "    </tr>\n",
              "    <tr>\n",
              "      <th>71557</th>\n",
              "      <td>0702753000</td>\n",
              "      <td>NaN</td>\n",
              "      <td>0702753000</td>\n",
              "      <td>98</td>\n",
              "      <td>BUTTONWOOD ST</td>\n",
              "      <td>NaN</td>\n",
              "      <td>DORCHESTER</td>\n",
              "      <td>02125</td>\n",
              "      <td>1</td>\n",
              "      <td>1</td>\n",
              "      <td>...</td>\n",
              "      <td>NaN</td>\n",
              "      <td>NaN</td>\n",
              "      <td>F - Forced Hot Air</td>\n",
              "      <td>NaN</td>\n",
              "      <td>C - Central AC</td>\n",
              "      <td>NaN</td>\n",
              "      <td>NaN</td>\n",
              "      <td>2</td>\n",
              "      <td>A - Average</td>\n",
              "      <td>NaN</td>\n",
              "    </tr>\n",
              "  </tbody>\n",
              "</table>\n",
              "<p>5 rows × 63 columns</p>\n",
              "</div>"
            ],
            "text/plain": [
              "              PID CM_ID      GIS_ID ST_NUM        ST_NAME UNIT_NUM  \\\n",
              "71546  0702744001   NaN  0702744001    128  BUTTONWOOD ST      NaN   \n",
              "71547  0702745000   NaN  0702745000    124  BUTTONWOOD ST      NaN   \n",
              "71549  0702747000   NaN  0702747000    120  BUTTONWOOD ST      NaN   \n",
              "71556  0702752000   NaN  0702752000    100  BUTTONWOOD ST      NaN   \n",
              "71557  0702753000   NaN  0702753000     98  BUTTONWOOD ST      NaN   \n",
              "\n",
              "             CITY ZIPCODE BLDG_SEQ NUM_BLDGS  ...   KITCHEN_STYLE2  \\\n",
              "71546  DORCHESTER   02125        1         1  ...       M - Modern   \n",
              "71547  DORCHESTER   02125        1         1  ...  S - Semi-Modern   \n",
              "71549  DORCHESTER   02125        1         1  ...              NaN   \n",
              "71556  DORCHESTER   02125        1         1  ...              NaN   \n",
              "71557  DORCHESTER   02125        1         1  ...              NaN   \n",
              "\n",
              "        KITCHEN_STYLE3           HEAT_TYPE HEAT_FUEL          AC_TYPE  \\\n",
              "71546       M - Modern  F - Forced Hot Air       NaN   C - Central AC   \n",
              "71547  S - Semi-Modern  F - Forced Hot Air       NaN         N - None   \n",
              "71549              NaN  W - Ht Water/Steam       NaN  D - Ductless AC   \n",
              "71556              NaN  F - Forced Hot Air       NaN         N - None   \n",
              "71557              NaN  F - Forced Hot Air       NaN   C - Central AC   \n",
              "\n",
              "      FIRE_PLACE PlUMBING NUM_PARKING    PROP_VIEW CORNER_UNIT  \n",
              "71546        NaN      NaN           2  A - Average         NaN  \n",
              "71547        NaN      NaN         NaN  A - Average         NaN  \n",
              "71549        NaN      NaN         NaN  A - Average         NaN  \n",
              "71556        NaN      NaN         NaN  A - Average         NaN  \n",
              "71557        NaN      NaN           2  A - Average         NaN  \n",
              "\n",
              "[5 rows x 63 columns]"
            ]
          },
          "execution_count": 34,
          "metadata": {},
          "output_type": "execute_result"
        }
      ],
      "source": [
        "#filter to owner occupied only\n",
        "prop_assess4 = prop_assess3[prop_assess3['OWN_OCC'] == 'Y' ]\n",
        "prop_assess4.head()"
      ]
    },
    {
      "cell_type": "code",
      "execution_count": null,
      "metadata": {},
      "outputs": [],
      "source": [
        "#how many properties sit on the same parcel? anti join the join key"
      ]
    },
    {
      "cell_type": "code",
      "execution_count": null,
      "metadata": {},
      "outputs": [],
      "source": [
        "# is there building data in the parcel dataset?"
      ]
    },
    {
      "cell_type": "code",
      "execution_count": null,
      "metadata": {},
      "outputs": [],
      "source": [
        "# is there basement data in the property assessment dataset?"
      ]
    },
    {
      "cell_type": "markdown",
      "metadata": {
        "id": "4LzTS5rrhAa6"
      },
      "source": [
        "### Summarize Filtered Dataset"
      ]
    },
    {
      "cell_type": "code",
      "execution_count": null,
      "metadata": {
        "colab": {
          "base_uri": "https://localhost:8080/"
        },
        "id": "bXV6N1gZhAa6",
        "outputId": "9de96b52-10bb-4685-ee31-c62a193c898d"
      },
      "outputs": [
        {
          "name": "stdout",
          "output_type": "stream",
          "text": [
            "<class 'pandas.core.frame.DataFrame'>\n",
            "Int64Index: 14121 entries, 71546 to 134517\n",
            "Data columns (total 63 columns):\n",
            " #   Column           Non-Null Count  Dtype  \n",
            "---  ------           --------------  -----  \n",
            " 0   PID              14121 non-null  int64  \n",
            " 1   CM_ID            2 non-null      float64\n",
            " 2   GIS_ID           14121 non-null  float64\n",
            " 3   ST_NUM           14109 non-null  object \n",
            " 4   ST_NAME          14121 non-null  object \n",
            " 5   UNIT_NUM         0 non-null      object \n",
            " 6   CITY             14121 non-null  object \n",
            " 7   ZIPCODE          14121 non-null  int64  \n",
            " 8   BLDG_SEQ         14121 non-null  float64\n",
            " 9   NUM_BLDGS        14121 non-null  float64\n",
            " 10  LUC              14121 non-null  int64  \n",
            " 11  LU               14121 non-null  object \n",
            " 12  LU_DESC          14121 non-null  object \n",
            " 13  BLDG_TYPE        14121 non-null  object \n",
            " 14  OWN_OCC          14121 non-null  object \n",
            " 15  OWNER            14117 non-null  object \n",
            " 16  MAIL_ADDRESSEE   1576 non-null   object \n",
            " 17  MAIL_ADDRESS     14114 non-null  object \n",
            " 18  MAIL_CITY        14117 non-null  object \n",
            " 19  MAIL_STATE       14117 non-null  object \n",
            " 20  MAIL_ZIPCODE     14117 non-null  object \n",
            " 21  RES_FLOOR        14120 non-null  float64\n",
            " 22  CD_FLOOR         1 non-null      float64\n",
            " 23  RES_UNITS        4 non-null      float64\n",
            " 24  COM_UNITS        0 non-null      float64\n",
            " 25  LAND_SF          14121 non-null  float64\n",
            " 26  GROSS_AREA       14121 non-null  float64\n",
            " 27  LIVING_AREA      14121 non-null  float64\n",
            " 28  LAND_VALUE       13452 non-null  object \n",
            " 29  BLDG_VALUE       14121 non-null  object \n",
            " 30  TOTAL_VALUE      14121 non-null  object \n",
            " 31  GROSS_TAX        14121 non-null  object \n",
            " 32  YR_BUILT         14118 non-null  float64\n",
            " 33  YR_REMODEL       5128 non-null   float64\n",
            " 34  STRUCTURE_CLASS  13968 non-null  object \n",
            " 35  ROOF_STRUCTURE   14121 non-null  object \n",
            " 36  ROOF_COVER       14121 non-null  object \n",
            " 37  INT_WALL         14121 non-null  object \n",
            " 38  EXT_FINISHED     14121 non-null  object \n",
            " 39  INT_COND         14121 non-null  object \n",
            " 40  EXT_COND         14121 non-null  object \n",
            " 41  OVERALL_COND     14121 non-null  object \n",
            " 42  BED_RMS          14121 non-null  float64\n",
            " 43  FULL_BTH         14121 non-null  float64\n",
            " 44  HLF_BTH          4385 non-null   float64\n",
            " 45  KITCHEN          14121 non-null  float64\n",
            " 46  TT_RMS           14121 non-null  float64\n",
            " 47  BDRM_COND        1 non-null      object \n",
            " 48  BTHRM_STYLE1     14121 non-null  object \n",
            " 49  BTHRM_STYLE2     12523 non-null  object \n",
            " 50  BTHRM_STYLE3     5881 non-null   object \n",
            " 51  KITCHEN_TYPE     14121 non-null  object \n",
            " 52  KITCHEN_STYLE1   14121 non-null  object \n",
            " 53  KITCHEN_STYLE2   7993 non-null   object \n",
            " 54  KITCHEN_STYLE3   3180 non-null   object \n",
            " 55  HEAT_TYPE        14121 non-null  object \n",
            " 56  HEAT_FUEL        2 non-null      object \n",
            " 57  AC_TYPE          14121 non-null  object \n",
            " 58  FIRE_PLACE       2853 non-null   float64\n",
            " 59  PlUMBING         1 non-null      object \n",
            " 60  NUM_PARKING      11232 non-null  float64\n",
            " 61  PROP_VIEW        14121 non-null  object \n",
            " 62  CORNER_UNIT      2 non-null      object \n",
            "dtypes: float64(20), int64(3), object(40)\n",
            "memory usage: 6.9+ MB\n"
          ]
        }
      ],
      "source": [
        "prop_assess4.info()"
      ]
    },
    {
      "cell_type": "code",
      "execution_count": 35,
      "metadata": {
        "colab": {
          "base_uri": "https://localhost:8080/"
        },
        "id": "7U2xHpe6hAa7",
        "outputId": "5920d3b5-e93e-424e-9153-92b6e32da409"
      },
      "outputs": [
        {
          "data": {
            "text/plain": [
              "COM_UNITS          14121\n",
              "UNIT_NUM           14121\n",
              "BDRM_COND          14120\n",
              "PlUMBING           14120\n",
              "CD_FLOOR           14120\n",
              "CORNER_UNIT        14119\n",
              "HEAT_FUEL          14119\n",
              "CM_ID              14119\n",
              "RES_UNITS          14117\n",
              "MAIL_ADDRESSEE     12545\n",
              "FIRE_PLACE         11268\n",
              "KITCHEN_STYLE3     10941\n",
              "HLF_BTH             9736\n",
              "YR_REMODEL          8993\n",
              "BTHRM_STYLE3        8240\n",
              "KITCHEN_STYLE2      6128\n",
              "NUM_PARKING         2889\n",
              "BTHRM_STYLE2        1598\n",
              "LAND_VALUE           669\n",
              "STRUCTURE_CLASS      153\n",
              "dtype: int64"
            ]
          },
          "execution_count": 35,
          "metadata": {},
          "output_type": "execute_result"
        }
      ],
      "source": [
        "#null value count \n",
        "prop_assess4.isna().sum().sort_values(ascending=False).head(20)"
      ]
    },
    {
      "cell_type": "markdown",
      "metadata": {
        "id": "fnWjz1oThAa7"
      },
      "source": [
        "### Select Features"
      ]
    },
    {
      "cell_type": "code",
      "execution_count": 36,
      "metadata": {
        "colab": {
          "base_uri": "https://localhost:8080/",
          "height": 473
        },
        "id": "N7w573WShAa7",
        "outputId": "ebf92cbd-1dc2-4a5e-ff5f-bf080c26728f"
      },
      "outputs": [
        {
          "data": {
            "text/html": [
              "<div>\n",
              "<style scoped>\n",
              "    .dataframe tbody tr th:only-of-type {\n",
              "        vertical-align: middle;\n",
              "    }\n",
              "\n",
              "    .dataframe tbody tr th {\n",
              "        vertical-align: top;\n",
              "    }\n",
              "\n",
              "    .dataframe thead th {\n",
              "        text-align: right;\n",
              "    }\n",
              "</style>\n",
              "<table border=\"1\" class=\"dataframe\">\n",
              "  <thead>\n",
              "    <tr style=\"text-align: right;\">\n",
              "      <th></th>\n",
              "      <th>CITY</th>\n",
              "      <th>LU</th>\n",
              "      <th>LU_DESC</th>\n",
              "      <th>OWN_OCC</th>\n",
              "      <th>HEAT_TYPE</th>\n",
              "      <th>AC_TYPE</th>\n",
              "      <th>RES_FLOOR</th>\n",
              "      <th>YR_REMODEL</th>\n",
              "      <th>YR_BUILT</th>\n",
              "      <th>FIRE_PLACE</th>\n",
              "      <th>...</th>\n",
              "      <th>TT_RMS</th>\n",
              "      <th>GROSS_AREA</th>\n",
              "      <th>LIVING_AREA</th>\n",
              "      <th>EXT_COND</th>\n",
              "      <th>BED_RMS</th>\n",
              "      <th>EXT_FINISHED</th>\n",
              "      <th>HEAT_FUEL</th>\n",
              "      <th>PID</th>\n",
              "      <th>GIS_ID</th>\n",
              "      <th>OWNER</th>\n",
              "    </tr>\n",
              "  </thead>\n",
              "  <tbody>\n",
              "    <tr>\n",
              "      <th>71546</th>\n",
              "      <td>DORCHESTER</td>\n",
              "      <td>R3</td>\n",
              "      <td>THREE-FAM DWELLING</td>\n",
              "      <td>Y</td>\n",
              "      <td>F - Forced Hot Air</td>\n",
              "      <td>C - Central AC</td>\n",
              "      <td>3</td>\n",
              "      <td>NaN</td>\n",
              "      <td>2003</td>\n",
              "      <td>NaN</td>\n",
              "      <td>...</td>\n",
              "      <td>18</td>\n",
              "      <td>6476</td>\n",
              "      <td>4470</td>\n",
              "      <td>G - Good</td>\n",
              "      <td>9</td>\n",
              "      <td>C - Cement Board</td>\n",
              "      <td>NaN</td>\n",
              "      <td>0702744001</td>\n",
              "      <td>0702744001</td>\n",
              "      <td>DARMETKO HENRY</td>\n",
              "    </tr>\n",
              "    <tr>\n",
              "      <th>71547</th>\n",
              "      <td>DORCHESTER</td>\n",
              "      <td>R3</td>\n",
              "      <td>THREE-FAM DWELLING</td>\n",
              "      <td>Y</td>\n",
              "      <td>F - Forced Hot Air</td>\n",
              "      <td>N - None</td>\n",
              "      <td>3</td>\n",
              "      <td>NaN</td>\n",
              "      <td>1905</td>\n",
              "      <td>NaN</td>\n",
              "      <td>...</td>\n",
              "      <td>16</td>\n",
              "      <td>4836</td>\n",
              "      <td>3567</td>\n",
              "      <td>G - Good</td>\n",
              "      <td>6</td>\n",
              "      <td>F - Frame/Clapbrd</td>\n",
              "      <td>NaN</td>\n",
              "      <td>0702745000</td>\n",
              "      <td>0702745000</td>\n",
              "      <td>SHEQI MITI</td>\n",
              "    </tr>\n",
              "    <tr>\n",
              "      <th>71549</th>\n",
              "      <td>DORCHESTER</td>\n",
              "      <td>R1</td>\n",
              "      <td>SINGLE FAM DWELLING</td>\n",
              "      <td>Y</td>\n",
              "      <td>W - Ht Water/Steam</td>\n",
              "      <td>D - Ductless AC</td>\n",
              "      <td>2</td>\n",
              "      <td>NaN</td>\n",
              "      <td>1900</td>\n",
              "      <td>NaN</td>\n",
              "      <td>...</td>\n",
              "      <td>8</td>\n",
              "      <td>2630</td>\n",
              "      <td>1716</td>\n",
              "      <td>A - Average</td>\n",
              "      <td>4</td>\n",
              "      <td>M - Vinyl</td>\n",
              "      <td>NaN</td>\n",
              "      <td>0702747000</td>\n",
              "      <td>0702747000</td>\n",
              "      <td>PULAKE FATMIR</td>\n",
              "    </tr>\n",
              "    <tr>\n",
              "      <th>71556</th>\n",
              "      <td>DORCHESTER</td>\n",
              "      <td>R1</td>\n",
              "      <td>SINGLE FAM DWELLING</td>\n",
              "      <td>Y</td>\n",
              "      <td>F - Forced Hot Air</td>\n",
              "      <td>N - None</td>\n",
              "      <td>2</td>\n",
              "      <td>NaN</td>\n",
              "      <td>1914</td>\n",
              "      <td>NaN</td>\n",
              "      <td>...</td>\n",
              "      <td>9</td>\n",
              "      <td>2466</td>\n",
              "      <td>1538</td>\n",
              "      <td>A - Average</td>\n",
              "      <td>4</td>\n",
              "      <td>M - Vinyl</td>\n",
              "      <td>NaN</td>\n",
              "      <td>0702752000</td>\n",
              "      <td>0702752000</td>\n",
              "      <td>KANIA ANDRZEJ</td>\n",
              "    </tr>\n",
              "    <tr>\n",
              "      <th>71557</th>\n",
              "      <td>DORCHESTER</td>\n",
              "      <td>R1</td>\n",
              "      <td>SINGLE FAM DWELLING</td>\n",
              "      <td>Y</td>\n",
              "      <td>F - Forced Hot Air</td>\n",
              "      <td>C - Central AC</td>\n",
              "      <td>2</td>\n",
              "      <td>2001</td>\n",
              "      <td>1914</td>\n",
              "      <td>NaN</td>\n",
              "      <td>...</td>\n",
              "      <td>7</td>\n",
              "      <td>2272</td>\n",
              "      <td>1447</td>\n",
              "      <td>A - Average</td>\n",
              "      <td>3</td>\n",
              "      <td>M - Vinyl</td>\n",
              "      <td>NaN</td>\n",
              "      <td>0702753000</td>\n",
              "      <td>0702753000</td>\n",
              "      <td>BROWNE BRENDAN</td>\n",
              "    </tr>\n",
              "  </tbody>\n",
              "</table>\n",
              "<p>5 rows × 25 columns</p>\n",
              "</div>"
            ],
            "text/plain": [
              "             CITY  LU              LU_DESC OWN_OCC           HEAT_TYPE  \\\n",
              "71546  DORCHESTER  R3   THREE-FAM DWELLING       Y  F - Forced Hot Air   \n",
              "71547  DORCHESTER  R3   THREE-FAM DWELLING       Y  F - Forced Hot Air   \n",
              "71549  DORCHESTER  R1  SINGLE FAM DWELLING       Y  W - Ht Water/Steam   \n",
              "71556  DORCHESTER  R1  SINGLE FAM DWELLING       Y  F - Forced Hot Air   \n",
              "71557  DORCHESTER  R1  SINGLE FAM DWELLING       Y  F - Forced Hot Air   \n",
              "\n",
              "               AC_TYPE RES_FLOOR YR_REMODEL YR_BUILT FIRE_PLACE  ... TT_RMS  \\\n",
              "71546   C - Central AC         3        NaN     2003        NaN  ...     18   \n",
              "71547         N - None         3        NaN     1905        NaN  ...     16   \n",
              "71549  D - Ductless AC         2        NaN     1900        NaN  ...      8   \n",
              "71556         N - None         2        NaN     1914        NaN  ...      9   \n",
              "71557   C - Central AC         2       2001     1914        NaN  ...      7   \n",
              "\n",
              "      GROSS_AREA LIVING_AREA     EXT_COND BED_RMS       EXT_FINISHED  \\\n",
              "71546       6476        4470     G - Good       9   C - Cement Board   \n",
              "71547       4836        3567     G - Good       6  F - Frame/Clapbrd   \n",
              "71549       2630        1716  A - Average       4          M - Vinyl   \n",
              "71556       2466        1538  A - Average       4          M - Vinyl   \n",
              "71557       2272        1447  A - Average       3          M - Vinyl   \n",
              "\n",
              "      HEAT_FUEL         PID      GIS_ID           OWNER  \n",
              "71546       NaN  0702744001  0702744001  DARMETKO HENRY  \n",
              "71547       NaN  0702745000  0702745000      SHEQI MITI  \n",
              "71549       NaN  0702747000  0702747000   PULAKE FATMIR  \n",
              "71556       NaN  0702752000  0702752000   KANIA ANDRZEJ  \n",
              "71557       NaN  0702753000  0702753000  BROWNE BRENDAN  \n",
              "\n",
              "[5 rows x 25 columns]"
            ]
          },
          "execution_count": 36,
          "metadata": {},
          "output_type": "execute_result"
        }
      ],
      "source": [
        "#Select Important Features to Analyze\n",
        "#Include IDs, owner names, and addresses\n",
        "prop_assess_list = prop_assess4[['CITY', 'LU', 'LU_DESC', 'OWN_OCC', 'HEAT_TYPE', 'AC_TYPE', 'RES_FLOOR', \n",
        "              'YR_REMODEL', 'YR_BUILT', 'FIRE_PLACE', 'BLDG_TYPE', 'STRUCTURE_CLASS', 'INT_WALL', 'INT_COND', \n",
        "              'LAND_SF', 'TT_RMS', 'GROSS_AREA', 'LIVING_AREA', 'EXT_COND', 'BED_RMS','EXT_FINISHED','HEAT_FUEL',\n",
        "              'PID', 'GIS_ID', 'OWNER']].copy()\n",
        "prop_assess_list.head()"
      ]
    },
    {
      "cell_type": "code",
      "execution_count": 38,
      "metadata": {},
      "outputs": [],
      "source": [
        "property = parcels.merge(prop_assess_list, left_on = 'MAP_PAR_ID', right_on = 'GIS_ID', how = 'inner')"
      ]
    },
    {
      "cell_type": "code",
      "execution_count": 39,
      "metadata": {},
      "outputs": [
        {
          "name": "stdout",
          "output_type": "stream",
          "text": [
            "<class 'geopandas.geodataframe.GeoDataFrame'>\n",
            "Int64Index: 14121 entries, 0 to 14120\n",
            "Data columns (total 44 columns):\n",
            " #   Column           Non-Null Count  Dtype   \n",
            "---  ------           --------------  -----   \n",
            " 0   OBJECTID_1       14121 non-null  int64   \n",
            " 1   OBJECTID         14121 non-null  int64   \n",
            " 2   MAP_PAR_ID       14121 non-null  object  \n",
            " 3   LOC_ID           14121 non-null  object  \n",
            " 4   POLY_TYPE        14121 non-null  object  \n",
            " 5   MAP_NO           14121 non-null  object  \n",
            " 6   SOURCE           14121 non-null  object  \n",
            " 7   PLAN_ID          14121 non-null  object  \n",
            " 8   LAST_EDIT        14121 non-null  int64   \n",
            " 9   BND_CHK          14121 non-null  object  \n",
            " 10  NO_MATCH         14121 non-null  object  \n",
            " 11  TOWN_ID          14121 non-null  int64   \n",
            " 12  Shape_STAr       14121 non-null  float64 \n",
            " 13  Shape_STLe       14121 non-null  float64 \n",
            " 14  Shape_ST_1       14121 non-null  float64 \n",
            " 15  Shape_ST_2       14121 non-null  float64 \n",
            " 16  Shape__Area      14121 non-null  float64 \n",
            " 17  Shape__Length    14121 non-null  float64 \n",
            " 18  geometry         14121 non-null  geometry\n",
            " 19  CITY             14121 non-null  object  \n",
            " 20  LU               14121 non-null  object  \n",
            " 21  LU_DESC          14121 non-null  object  \n",
            " 22  OWN_OCC          14121 non-null  object  \n",
            " 23  HEAT_TYPE        14121 non-null  object  \n",
            " 24  AC_TYPE          14121 non-null  object  \n",
            " 25  RES_FLOOR        14120 non-null  object  \n",
            " 26  YR_REMODEL       5128 non-null   object  \n",
            " 27  YR_BUILT         14118 non-null  object  \n",
            " 28  FIRE_PLACE       2853 non-null   object  \n",
            " 29  BLDG_TYPE        14121 non-null  object  \n",
            " 30  STRUCTURE_CLASS  13968 non-null  object  \n",
            " 31  INT_WALL         14121 non-null  object  \n",
            " 32  INT_COND         14121 non-null  object  \n",
            " 33  LAND_SF          14121 non-null  object  \n",
            " 34  TT_RMS           14121 non-null  object  \n",
            " 35  GROSS_AREA       14121 non-null  object  \n",
            " 36  LIVING_AREA      14121 non-null  object  \n",
            " 37  EXT_COND         14121 non-null  object  \n",
            " 38  BED_RMS          14121 non-null  object  \n",
            " 39  EXT_FINISHED     14121 non-null  object  \n",
            " 40  HEAT_FUEL        2 non-null      object  \n",
            " 41  PID              14121 non-null  object  \n",
            " 42  GIS_ID           14121 non-null  object  \n",
            " 43  OWNER            14117 non-null  object  \n",
            "dtypes: float64(6), geometry(1), int64(4), object(33)\n",
            "memory usage: 4.8+ MB\n"
          ]
        }
      ],
      "source": [
        "property.info()"
      ]
    },
    {
      "cell_type": "code",
      "execution_count": 40,
      "metadata": {},
      "outputs": [],
      "source": [
        "property.to_file(\"2021_parcels_property-assessment.geojson\", driver='GeoJSON')"
      ]
    },
    {
      "cell_type": "markdown",
      "metadata": {
        "id": "38vxWtd5hAa7"
      },
      "source": [
        "### Summarize Feature List"
      ]
    },
    {
      "cell_type": "code",
      "execution_count": 37,
      "metadata": {
        "colab": {
          "base_uri": "https://localhost:8080/"
        },
        "id": "k-hf3F15hAa7",
        "outputId": "dbfe1dc8-0d92-4658-a00d-9ae1b7c57252"
      },
      "outputs": [
        {
          "name": "stdout",
          "output_type": "stream",
          "text": [
            "<class 'pandas.core.frame.DataFrame'>\n",
            "Int64Index: 14121 entries, 71546 to 134517\n",
            "Data columns (total 25 columns):\n",
            " #   Column           Non-Null Count  Dtype \n",
            "---  ------           --------------  ----- \n",
            " 0   CITY             14121 non-null  object\n",
            " 1   LU               14121 non-null  object\n",
            " 2   LU_DESC          14121 non-null  object\n",
            " 3   OWN_OCC          14121 non-null  object\n",
            " 4   HEAT_TYPE        14121 non-null  object\n",
            " 5   AC_TYPE          14121 non-null  object\n",
            " 6   RES_FLOOR        14120 non-null  object\n",
            " 7   YR_REMODEL       5128 non-null   object\n",
            " 8   YR_BUILT         14118 non-null  object\n",
            " 9   FIRE_PLACE       2853 non-null   object\n",
            " 10  BLDG_TYPE        14121 non-null  object\n",
            " 11  STRUCTURE_CLASS  13968 non-null  object\n",
            " 12  INT_WALL         14121 non-null  object\n",
            " 13  INT_COND         14121 non-null  object\n",
            " 14  LAND_SF          14121 non-null  object\n",
            " 15  TT_RMS           14121 non-null  object\n",
            " 16  GROSS_AREA       14121 non-null  object\n",
            " 17  LIVING_AREA      14121 non-null  object\n",
            " 18  EXT_COND         14121 non-null  object\n",
            " 19  BED_RMS          14121 non-null  object\n",
            " 20  EXT_FINISHED     14121 non-null  object\n",
            " 21  HEAT_FUEL        2 non-null      object\n",
            " 22  PID              14121 non-null  object\n",
            " 23  GIS_ID           14121 non-null  object\n",
            " 24  OWNER            14117 non-null  object\n",
            "dtypes: object(25)\n",
            "memory usage: 2.8+ MB\n"
          ]
        }
      ],
      "source": [
        "prop_assess_list.info()"
      ]
    },
    {
      "cell_type": "code",
      "execution_count": null,
      "metadata": {
        "colab": {
          "base_uri": "https://localhost:8080/",
          "height": 364
        },
        "id": "znDsX-VXhAa7",
        "outputId": "4ccfdca2-37c6-4df0-dd23-e2284f8437f2"
      },
      "outputs": [
        {
          "data": {
            "text/html": [
              "\n",
              "  <div id=\"df-25d40ddf-8fa6-4b1d-8a1d-9c201a990375\">\n",
              "    <div class=\"colab-df-container\">\n",
              "      <div>\n",
              "<style scoped>\n",
              "    .dataframe tbody tr th:only-of-type {\n",
              "        vertical-align: middle;\n",
              "    }\n",
              "\n",
              "    .dataframe tbody tr th {\n",
              "        vertical-align: top;\n",
              "    }\n",
              "\n",
              "    .dataframe thead th {\n",
              "        text-align: right;\n",
              "    }\n",
              "</style>\n",
              "<table border=\"1\" class=\"dataframe\">\n",
              "  <thead>\n",
              "    <tr style=\"text-align: right;\">\n",
              "      <th></th>\n",
              "      <th>RES_FLOOR</th>\n",
              "      <th>YR_REMODEL</th>\n",
              "      <th>YR_BUILT</th>\n",
              "      <th>FIRE_PLACE</th>\n",
              "      <th>LAND_SF</th>\n",
              "      <th>TT_RMS</th>\n",
              "      <th>GROSS_AREA</th>\n",
              "      <th>LIVING_AREA</th>\n",
              "      <th>BED_RMS</th>\n",
              "      <th>PID</th>\n",
              "      <th>GIS_ID</th>\n",
              "    </tr>\n",
              "  </thead>\n",
              "  <tbody>\n",
              "    <tr>\n",
              "      <th>count</th>\n",
              "      <td>14120.000000</td>\n",
              "      <td>5128.000000</td>\n",
              "      <td>14118.000000</td>\n",
              "      <td>2853.000000</td>\n",
              "      <td>14121.000000</td>\n",
              "      <td>14121.000000</td>\n",
              "      <td>14121.000000</td>\n",
              "      <td>14121.000000</td>\n",
              "      <td>14121.000000</td>\n",
              "      <td>1.412100e+04</td>\n",
              "      <td>1.412100e+04</td>\n",
              "    </tr>\n",
              "    <tr>\n",
              "      <th>mean</th>\n",
              "      <td>2.205984</td>\n",
              "      <td>2001.008775</td>\n",
              "      <td>1918.898286</td>\n",
              "      <td>1.330880</td>\n",
              "      <td>4740.255223</td>\n",
              "      <td>10.682105</td>\n",
              "      <td>3969.538984</td>\n",
              "      <td>2601.603144</td>\n",
              "      <td>5.038666</td>\n",
              "      <td>1.483006e+09</td>\n",
              "      <td>1.483006e+09</td>\n",
              "    </tr>\n",
              "    <tr>\n",
              "      <th>std</th>\n",
              "      <td>0.503873</td>\n",
              "      <td>14.487033</td>\n",
              "      <td>30.999149</td>\n",
              "      <td>0.743284</td>\n",
              "      <td>2224.512988</td>\n",
              "      <td>3.778892</td>\n",
              "      <td>1441.529917</td>\n",
              "      <td>1013.190010</td>\n",
              "      <td>1.981088</td>\n",
              "      <td>2.687234e+08</td>\n",
              "      <td>2.687234e+08</td>\n",
              "    </tr>\n",
              "    <tr>\n",
              "      <th>min</th>\n",
              "      <td>1.000000</td>\n",
              "      <td>1915.000000</td>\n",
              "      <td>1775.000000</td>\n",
              "      <td>1.000000</td>\n",
              "      <td>404.000000</td>\n",
              "      <td>2.000000</td>\n",
              "      <td>632.000000</td>\n",
              "      <td>470.000000</td>\n",
              "      <td>1.000000</td>\n",
              "      <td>7.027440e+08</td>\n",
              "      <td>7.027440e+08</td>\n",
              "    </tr>\n",
              "    <tr>\n",
              "      <th>25%</th>\n",
              "      <td>2.000000</td>\n",
              "      <td>1995.000000</td>\n",
              "      <td>1900.000000</td>\n",
              "      <td>1.000000</td>\n",
              "      <td>3431.000000</td>\n",
              "      <td>7.000000</td>\n",
              "      <td>2730.000000</td>\n",
              "      <td>1740.000000</td>\n",
              "      <td>3.000000</td>\n",
              "      <td>1.303148e+09</td>\n",
              "      <td>1.303148e+09</td>\n",
              "    </tr>\n",
              "    <tr>\n",
              "      <th>50%</th>\n",
              "      <td>2.000000</td>\n",
              "      <td>2003.000000</td>\n",
              "      <td>1910.000000</td>\n",
              "      <td>1.000000</td>\n",
              "      <td>4344.000000</td>\n",
              "      <td>10.000000</td>\n",
              "      <td>3870.000000</td>\n",
              "      <td>2513.000000</td>\n",
              "      <td>5.000000</td>\n",
              "      <td>1.600386e+09</td>\n",
              "      <td>1.600386e+09</td>\n",
              "    </tr>\n",
              "    <tr>\n",
              "      <th>75%</th>\n",
              "      <td>2.500000</td>\n",
              "      <td>2012.000000</td>\n",
              "      <td>1929.000000</td>\n",
              "      <td>1.000000</td>\n",
              "      <td>5500.000000</td>\n",
              "      <td>14.000000</td>\n",
              "      <td>5056.000000</td>\n",
              "      <td>3353.000000</td>\n",
              "      <td>6.000000</td>\n",
              "      <td>1.702041e+09</td>\n",
              "      <td>1.702041e+09</td>\n",
              "    </tr>\n",
              "    <tr>\n",
              "      <th>max</th>\n",
              "      <td>4.000000</td>\n",
              "      <td>2019.000000</td>\n",
              "      <td>2019.000000</td>\n",
              "      <td>9.000000</td>\n",
              "      <td>48317.000000</td>\n",
              "      <td>25.000000</td>\n",
              "      <td>10984.000000</td>\n",
              "      <td>7088.000000</td>\n",
              "      <td>18.000000</td>\n",
              "      <td>1.812256e+09</td>\n",
              "      <td>1.812256e+09</td>\n",
              "    </tr>\n",
              "  </tbody>\n",
              "</table>\n",
              "</div>\n",
              "      <button class=\"colab-df-convert\" onclick=\"convertToInteractive('df-25d40ddf-8fa6-4b1d-8a1d-9c201a990375')\"\n",
              "              title=\"Convert this dataframe to an interactive table.\"\n",
              "              style=\"display:none;\">\n",
              "        \n",
              "  <svg xmlns=\"http://www.w3.org/2000/svg\" height=\"24px\"viewBox=\"0 0 24 24\"\n",
              "       width=\"24px\">\n",
              "    <path d=\"M0 0h24v24H0V0z\" fill=\"none\"/>\n",
              "    <path d=\"M18.56 5.44l.94 2.06.94-2.06 2.06-.94-2.06-.94-.94-2.06-.94 2.06-2.06.94zm-11 1L8.5 8.5l.94-2.06 2.06-.94-2.06-.94L8.5 2.5l-.94 2.06-2.06.94zm10 10l.94 2.06.94-2.06 2.06-.94-2.06-.94-.94-2.06-.94 2.06-2.06.94z\"/><path d=\"M17.41 7.96l-1.37-1.37c-.4-.4-.92-.59-1.43-.59-.52 0-1.04.2-1.43.59L10.3 9.45l-7.72 7.72c-.78.78-.78 2.05 0 2.83L4 21.41c.39.39.9.59 1.41.59.51 0 1.02-.2 1.41-.59l7.78-7.78 2.81-2.81c.8-.78.8-2.07 0-2.86zM5.41 20L4 18.59l7.72-7.72 1.47 1.35L5.41 20z\"/>\n",
              "  </svg>\n",
              "      </button>\n",
              "      \n",
              "  <style>\n",
              "    .colab-df-container {\n",
              "      display:flex;\n",
              "      flex-wrap:wrap;\n",
              "      gap: 12px;\n",
              "    }\n",
              "\n",
              "    .colab-df-convert {\n",
              "      background-color: #E8F0FE;\n",
              "      border: none;\n",
              "      border-radius: 50%;\n",
              "      cursor: pointer;\n",
              "      display: none;\n",
              "      fill: #1967D2;\n",
              "      height: 32px;\n",
              "      padding: 0 0 0 0;\n",
              "      width: 32px;\n",
              "    }\n",
              "\n",
              "    .colab-df-convert:hover {\n",
              "      background-color: #E2EBFA;\n",
              "      box-shadow: 0px 1px 2px rgba(60, 64, 67, 0.3), 0px 1px 3px 1px rgba(60, 64, 67, 0.15);\n",
              "      fill: #174EA6;\n",
              "    }\n",
              "\n",
              "    [theme=dark] .colab-df-convert {\n",
              "      background-color: #3B4455;\n",
              "      fill: #D2E3FC;\n",
              "    }\n",
              "\n",
              "    [theme=dark] .colab-df-convert:hover {\n",
              "      background-color: #434B5C;\n",
              "      box-shadow: 0px 1px 3px 1px rgba(0, 0, 0, 0.15);\n",
              "      filter: drop-shadow(0px 1px 2px rgba(0, 0, 0, 0.3));\n",
              "      fill: #FFFFFF;\n",
              "    }\n",
              "  </style>\n",
              "\n",
              "      <script>\n",
              "        const buttonEl =\n",
              "          document.querySelector('#df-25d40ddf-8fa6-4b1d-8a1d-9c201a990375 button.colab-df-convert');\n",
              "        buttonEl.style.display =\n",
              "          google.colab.kernel.accessAllowed ? 'block' : 'none';\n",
              "\n",
              "        async function convertToInteractive(key) {\n",
              "          const element = document.querySelector('#df-25d40ddf-8fa6-4b1d-8a1d-9c201a990375');\n",
              "          const dataTable =\n",
              "            await google.colab.kernel.invokeFunction('convertToInteractive',\n",
              "                                                     [key], {});\n",
              "          if (!dataTable) return;\n",
              "\n",
              "          const docLinkHtml = 'Like what you see? Visit the ' +\n",
              "            '<a target=\"_blank\" href=https://colab.research.google.com/notebooks/data_table.ipynb>data table notebook</a>'\n",
              "            + ' to learn more about interactive tables.';\n",
              "          element.innerHTML = '';\n",
              "          dataTable['output_type'] = 'display_data';\n",
              "          await google.colab.output.renderOutput(dataTable, element);\n",
              "          const docLink = document.createElement('div');\n",
              "          docLink.innerHTML = docLinkHtml;\n",
              "          element.appendChild(docLink);\n",
              "        }\n",
              "      </script>\n",
              "    </div>\n",
              "  </div>\n",
              "  "
            ],
            "text/plain": [
              "          RES_FLOOR   YR_REMODEL      YR_BUILT   FIRE_PLACE       LAND_SF  \\\n",
              "count  14120.000000  5128.000000  14118.000000  2853.000000  14121.000000   \n",
              "mean       2.205984  2001.008775   1918.898286     1.330880   4740.255223   \n",
              "std        0.503873    14.487033     30.999149     0.743284   2224.512988   \n",
              "min        1.000000  1915.000000   1775.000000     1.000000    404.000000   \n",
              "25%        2.000000  1995.000000   1900.000000     1.000000   3431.000000   \n",
              "50%        2.000000  2003.000000   1910.000000     1.000000   4344.000000   \n",
              "75%        2.500000  2012.000000   1929.000000     1.000000   5500.000000   \n",
              "max        4.000000  2019.000000   2019.000000     9.000000  48317.000000   \n",
              "\n",
              "             TT_RMS    GROSS_AREA   LIVING_AREA       BED_RMS           PID  \\\n",
              "count  14121.000000  14121.000000  14121.000000  14121.000000  1.412100e+04   \n",
              "mean      10.682105   3969.538984   2601.603144      5.038666  1.483006e+09   \n",
              "std        3.778892   1441.529917   1013.190010      1.981088  2.687234e+08   \n",
              "min        2.000000    632.000000    470.000000      1.000000  7.027440e+08   \n",
              "25%        7.000000   2730.000000   1740.000000      3.000000  1.303148e+09   \n",
              "50%       10.000000   3870.000000   2513.000000      5.000000  1.600386e+09   \n",
              "75%       14.000000   5056.000000   3353.000000      6.000000  1.702041e+09   \n",
              "max       25.000000  10984.000000   7088.000000     18.000000  1.812256e+09   \n",
              "\n",
              "             GIS_ID  \n",
              "count  1.412100e+04  \n",
              "mean   1.483006e+09  \n",
              "std    2.687234e+08  \n",
              "min    7.027440e+08  \n",
              "25%    1.303148e+09  \n",
              "50%    1.600386e+09  \n",
              "75%    1.702041e+09  \n",
              "max    1.812256e+09  "
            ]
          },
          "execution_count": 14,
          "metadata": {},
          "output_type": "execute_result"
        }
      ],
      "source": [
        "prop_assess_list.describe()"
      ]
    },
    {
      "cell_type": "code",
      "execution_count": null,
      "metadata": {
        "colab": {
          "base_uri": "https://localhost:8080/"
        },
        "id": "XRuuelMPhAa7",
        "outputId": "8b97913b-c056-41cf-b647-27eb5297a91a"
      },
      "outputs": [
        {
          "data": {
            "text/plain": [
              "DORCHESTER         10132\n",
              "MATTAPAN            2478\n",
              "ROXBURY             1309\n",
              "ROXBURY CROSSIN      202\n",
              "Name: CITY, dtype: int64"
            ]
          },
          "execution_count": 15,
          "metadata": {},
          "output_type": "execute_result"
        }
      ],
      "source": [
        "# Number of Potential Households per City\n",
        "prop_assess_list['CITY'].value_counts()"
      ]
    },
    {
      "cell_type": "code",
      "execution_count": null,
      "metadata": {
        "colab": {
          "base_uri": "https://localhost:8080/"
        },
        "id": "vSiVat9xhAa8",
        "outputId": "e2f10eff-7060-4ce0-9032-91437eecf68b"
      },
      "outputs": [
        {
          "data": {
            "text/plain": [
              "SINGLE FAM DWELLING    6286\n",
              "TWO-FAM DWELLING       4748\n",
              "THREE-FAM DWELLING     3087\n",
              "Name: LU_DESC, dtype: int64"
            ]
          },
          "execution_count": 16,
          "metadata": {},
          "output_type": "execute_result"
        }
      ],
      "source": [
        "# Breakout of single, two family, and three family homes\n",
        "prop_assess_list['LU_DESC'].value_counts()"
      ]
    },
    {
      "cell_type": "code",
      "execution_count": null,
      "metadata": {
        "colab": {
          "base_uri": "https://localhost:8080/",
          "height": 369
        },
        "id": "DIumb6RthAa8",
        "outputId": "9d0e4677-aa80-4e93-ecb2-084c2d077e9e"
      },
      "outputs": [
        {
          "data": {
            "text/plain": [
              "<matplotlib.axes._subplots.AxesSubplot at 0x7f96adb6ce10>"
            ]
          },
          "execution_count": 17,
          "metadata": {},
          "output_type": "execute_result"
        },
        {
          "data": {
            "image/png": "[encoded data removed]",
            "text/plain": [
              "<Figure size 432x288 with 1 Axes>"
            ]
          },
          "metadata": {
            "needs_background": "light"
          },
          "output_type": "display_data"
        }
      ],
      "source": [
        "#Graph of Null Value Counts\n",
        "null = prop_assess_list.isnull().sum()\n",
        "null = null[null > 0]\n",
        "null.sort_values(inplace=True)\n",
        "null.plot.bar()"
      ]
    },
    {
      "cell_type": "code",
      "execution_count": null,
      "metadata": {
        "colab": {
          "base_uri": "https://localhost:8080/"
        },
        "id": "AYiv4mT5hAa8",
        "outputId": "9977e9bb-7358-40b5-f11f-0ae324dad512"
      },
      "outputs": [
        {
          "data": {
            "text/plain": [
              "8993"
            ]
          },
          "execution_count": 18,
          "metadata": {},
          "output_type": "execute_result"
        }
      ],
      "source": [
        "#Null Values for Year Remodel\n",
        "prop_assess_list['YR_REMODEL'].isnull().sum()"
      ]
    },
    {
      "cell_type": "code",
      "execution_count": null,
      "metadata": {
        "colab": {
          "base_uri": "https://localhost:8080/"
        },
        "id": "DeEkrq-OhAa8",
        "outputId": "b5f60c61-9f81-4add-cd94-508aa78000d0"
      },
      "outputs": [
        {
          "data": {
            "text/plain": [
              "11268"
            ]
          },
          "execution_count": 19,
          "metadata": {},
          "output_type": "execute_result"
        }
      ],
      "source": [
        "#Null Values for Fireplace\n",
        "prop_assess_list['FIRE_PLACE'].isnull().sum()"
      ]
    },
    {
      "cell_type": "code",
      "execution_count": null,
      "metadata": {
        "colab": {
          "base_uri": "https://localhost:8080/"
        },
        "id": "EKXgASaShAa8",
        "outputId": "5ff989c7-2fbb-4f78-f0de-8fdef885d117"
      },
      "outputs": [
        {
          "data": {
            "text/plain": [
              "0.636852914099568"
            ]
          },
          "execution_count": 82,
          "metadata": {},
          "output_type": "execute_result"
        }
      ],
      "source": [
        "#Proportion of Null Values for Year Remodel\n",
        "8993/14121"
      ]
    },
    {
      "cell_type": "code",
      "execution_count": null,
      "metadata": {
        "colab": {
          "base_uri": "https://localhost:8080/"
        },
        "id": "qQpRGKi6hAa8",
        "outputId": "e0d2a873-b463-4dee-9257-fbb97a4a89d3"
      },
      "outputs": [
        {
          "data": {
            "text/plain": [
              "0.7979604843849586"
            ]
          },
          "execution_count": 21,
          "metadata": {},
          "output_type": "execute_result"
        }
      ],
      "source": [
        "#Proportion of Null Values for Fireplace\n",
        "11268/14121"
      ]
    },
    {
      "cell_type": "code",
      "execution_count": null,
      "metadata": {
        "colab": {
          "base_uri": "https://localhost:8080/"
        },
        "id": "dt09kfBKM8KL",
        "outputId": "efa8289a-ab46-4b40-be18-ae2e6a7f7e6d"
      },
      "outputs": [
        {
          "data": {
            "text/plain": [
              "R -                13949\n",
              "D - Wood/Frame        15\n",
              "C - Brick/Concr        3\n",
              "B - Reinf Concr        1\n",
              "Name: STRUCTURE_CLASS, dtype: int64"
            ]
          },
          "execution_count": 22,
          "metadata": {},
          "output_type": "execute_result"
        }
      ],
      "source": [
        "#almost all have residential structure, STRUCTURE CLASS will not be useful \n",
        "prop_assess_list['STRUCTURE_CLASS'].value_counts()"
      ]
    },
    {
      "cell_type": "code",
      "execution_count": null,
      "metadata": {
        "colab": {
          "base_uri": "https://localhost:8080/"
        },
        "id": "ZMA5KJAkM71B",
        "outputId": "776eb033-0678-4ec0-8513-14a0a64cdb83"
      },
      "outputs": [
        {
          "data": {
            "text/plain": [
              "N - Normal         14104\n",
              "E - Elaborate         13\n",
              "S - Substandard        4\n",
              "Name: INT_WALL, dtype: int64"
            ]
          },
          "execution_count": 23,
          "metadata": {},
          "output_type": "execute_result"
        }
      ],
      "source": [
        "#mainly normal interior wall condition, INT WALL won't be useful\n",
        "prop_assess_list['INT_WALL'].value_counts()"
      ]
    },
    {
      "cell_type": "markdown",
      "metadata": {
        "id": "BWhFY8VDNXcR"
      },
      "source": [
        "###Create New Combo Stat Features"
      ]
    },
    {
      "cell_type": "code",
      "execution_count": null,
      "metadata": {
        "id": "AX8rvXO8hAa8"
      },
      "outputs": [],
      "source": [
        "#Combo Stat 1 \n",
        "#Create Living Space Ratio - request more details on this stat from Chris\n",
        "prop_assess_list['Living_Space_Ratio'] = prop_assess_list['LIVING_AREA'] / prop_assess_list['BED_RMS']"
      ]
    },
    {
      "cell_type": "code",
      "execution_count": null,
      "metadata": {
        "colab": {
          "base_uri": "https://localhost:8080/"
        },
        "id": "YAbmcPN9OqNl",
        "outputId": "b889f4a8-3fb0-480b-a338-a057a9d760e7"
      },
      "outputs": [
        {
          "data": {
            "text/plain": [
              "count    14121.000000\n",
              "mean       531.276688\n",
              "std        147.180847\n",
              "min        197.428571\n",
              "25%        433.333333\n",
              "50%        506.666667\n",
              "75%        600.833333\n",
              "max       1904.000000\n",
              "Name: Living_Space_Ratio, dtype: float64"
            ]
          },
          "execution_count": 25,
          "metadata": {},
          "output_type": "execute_result"
        }
      ],
      "source": [
        "prop_assess_list['Living_Space_Ratio'].describe()"
      ]
    },
    {
      "cell_type": "code",
      "execution_count": null,
      "metadata": {
        "id": "xnOCkzHmP0SQ"
      },
      "outputs": [],
      "source": [
        "#Combo Stat 2\n",
        "#Lot Size - (Living Area / Story Height)\n",
        "prop_assess_list['Combo_Stat_2'] = prop_assess_list['LAND_SF'] - (prop_assess_list['LIVING_AREA'] / prop_assess_list['RES_FLOOR'])"
      ]
    },
    {
      "cell_type": "code",
      "execution_count": null,
      "metadata": {
        "colab": {
          "base_uri": "https://localhost:8080/"
        },
        "id": "VichLunIQHhb",
        "outputId": "f96e13bf-8142-44fc-dee2-07e05ca9a52a"
      },
      "outputs": [
        {
          "data": {
            "text/plain": [
              "count    14120.000000\n",
              "mean      3568.873526\n",
              "std       2136.301558\n",
              "min       -247.500000\n",
              "25%       2287.800000\n",
              "50%       3187.000000\n",
              "75%       4278.250000\n",
              "max      46465.000000\n",
              "Name: Combo_Stat_2, dtype: float64"
            ]
          },
          "execution_count": 27,
          "metadata": {},
          "output_type": "execute_result"
        }
      ],
      "source": [
        "prop_assess_list['Combo_Stat_2'].describe()"
      ]
    },
    {
      "cell_type": "code",
      "execution_count": null,
      "metadata": {
        "id": "_mBdsu4fhAa8"
      },
      "outputs": [],
      "source": [
        "#Create New Ratio \"Total Room Ratio\"\n",
        "prop_assess_list['TT_ROOM_Ratio'] = prop_assess_list['LIVING_AREA'] / prop_assess_list['TT_RMS']"
      ]
    },
    {
      "cell_type": "code",
      "execution_count": null,
      "metadata": {
        "colab": {
          "base_uri": "https://localhost:8080/"
        },
        "id": "g_FHUTNbhAa9",
        "outputId": "55c99cca-c993-401a-cc05-1b7bffd450d1",
        "scrolled": true
      },
      "outputs": [
        {
          "data": {
            "text/plain": [
              "71546    248.333333\n",
              "71547    222.937500\n",
              "71549    214.500000\n",
              "Name: TT_ROOM_Ratio, dtype: float64"
            ]
          },
          "execution_count": 29,
          "metadata": {},
          "output_type": "execute_result"
        }
      ],
      "source": [
        "prop_assess_list['TT_ROOM_Ratio'].head(3)"
      ]
    },
    {
      "cell_type": "code",
      "execution_count": null,
      "metadata": {
        "id": "hVpBsXIAhAa9"
      },
      "outputs": [],
      "source": [
        "#Create New Ratio \"Lot Ratio\"\n",
        "prop_assess_list['LOT_RATIO'] = prop_assess_list['LAND_SF'] / prop_assess_list['RES_FLOOR']"
      ]
    },
    {
      "cell_type": "code",
      "execution_count": null,
      "metadata": {
        "colab": {
          "base_uri": "https://localhost:8080/"
        },
        "id": "VLPgQ5OkhAa9",
        "outputId": "58b483b8-4be4-48bb-e658-5fb4c4ba1e50"
      },
      "outputs": [
        {
          "data": {
            "text/plain": [
              "2000.0    308\n",
              "2500.0    253\n",
              "1600.0    165\n",
              "1800.0    135\n",
              "1500.0     92\n",
              "         ... \n",
              "2397.0      1\n",
              "2483.2      1\n",
              "1963.2      1\n",
              "1929.2      1\n",
              "4147.5      1\n",
              "Name: LOT_RATIO, Length: 7303, dtype: int64"
            ]
          },
          "execution_count": 31,
          "metadata": {},
          "output_type": "execute_result"
        }
      ],
      "source": [
        "prop_assess_list['LOT_RATIO'].value_counts()"
      ]
    },
    {
      "cell_type": "markdown",
      "metadata": {
        "id": "4fCButnyhAa9"
      },
      "source": [
        "### Visualizations"
      ]
    },
    {
      "cell_type": "code",
      "execution_count": null,
      "metadata": {
        "colab": {
          "base_uri": "https://localhost:8080/",
          "height": 296
        },
        "id": "NLE99jtuhAa-",
        "outputId": "3b47ee3b-7c84-469b-a7dc-5e24d2f4fb30"
      },
      "outputs": [
        {
          "data": {
            "text/plain": [
              "<matplotlib.legend.Legend at 0x7f96ac926c10>"
            ]
          },
          "execution_count": 96,
          "metadata": {},
          "output_type": "execute_result"
        },
        {
          "data": {
            "image/png": "[encoded data removed]",
            "text/plain": [
              "<Figure size 432x288 with 1 Axes>"
            ]
          },
          "metadata": {
            "needs_background": "light"
          },
          "output_type": "display_data"
        }
      ],
      "source": [
        "#Dwelling Counts per City\n",
        "sns.countplot(x='CITY', hue='LU_DESC', data=prop_assess_list)\n",
        "plt.legend(bbox_to_anchor=(1.02, 1), loc='upper left', borderaxespad=0)\n"
      ]
    },
    {
      "cell_type": "code",
      "execution_count": null,
      "metadata": {
        "colab": {
          "base_uri": "https://localhost:8080/"
        },
        "id": "X7XEnAL6Sacc",
        "outputId": "46f879f0-6aad-43b0-8a66-a7963b94110d"
      },
      "outputs": [
        {
          "data": {
            "text/plain": [
              "W - Ht Water/Steam    9810\n",
              "F - Forced Hot Air    4021\n",
              "E - Electric           211\n",
              "S - Space Heat          43\n",
              "P - Heat Pump           19\n",
              "N - None                16\n",
              "O - Other                1\n",
              "Name: HEAT_TYPE, dtype: int64"
            ]
          },
          "execution_count": 33,
          "metadata": {},
          "output_type": "execute_result"
        }
      ],
      "source": [
        "prop_assess_list['HEAT_TYPE'].value_counts()"
      ]
    },
    {
      "cell_type": "code",
      "execution_count": null,
      "metadata": {
        "colab": {
          "base_uri": "https://localhost:8080/",
          "height": 296
        },
        "id": "jrv-25tnhAa-",
        "outputId": "3659ee25-1b39-4099-a299-cf941b57f44d",
        "scrolled": true
      },
      "outputs": [
        {
          "data": {
            "text/plain": [
              "<matplotlib.axes._subplots.AxesSubplot at 0x7f96ad55d5d0>"
            ]
          },
          "execution_count": 34,
          "metadata": {},
          "output_type": "execute_result"
        },
        {
          "data": {
            "image/png": "[encoded data removed]",
            "text/plain": [
              "<Figure size 432x288 with 1 Axes>"
            ]
          },
          "metadata": {
            "needs_background": "light"
          },
          "output_type": "display_data"
        }
      ],
      "source": [
        "sns.countplot(y='HEAT_TYPE', data=prop_assess_list)"
      ]
    },
    {
      "cell_type": "markdown",
      "metadata": {
        "id": "ro_uZZzQhAa-"
      },
      "source": [
        "Chris notes/comments:\n",
        "\n",
        "Forced air and steam are interesting, bc there are multiple types of heat pumps you can implement.\n",
        "\n",
        "For example, if you have electric heat you would likely have baseboard electric and that equipment would stay in place and put in mini-splits. As of late, there have been heat pump options that are boiler-based / air-to-water heat pumps that could be even easier to install in the hot water/steam residences."
      ]
    },
    {
      "cell_type": "code",
      "execution_count": null,
      "metadata": {
        "colab": {
          "base_uri": "https://localhost:8080/",
          "height": 296
        },
        "id": "OjvzS32fhAa-",
        "outputId": "a478f034-cb0d-4a5e-d139-760110cb30ed"
      },
      "outputs": [
        {
          "data": {
            "text/plain": [
              "<matplotlib.legend.Legend at 0x7f96ac518610>"
            ]
          },
          "execution_count": 95,
          "metadata": {},
          "output_type": "execute_result"
        },
        {
          "data": {
            "image/png": "[encoded data removed]",
            "text/plain": [
              "<Figure size 432x288 with 1 Axes>"
            ]
          },
          "metadata": {
            "needs_background": "light"
          },
          "output_type": "display_data"
        }
      ],
      "source": [
        "#Heat Type per City\n",
        "sns.countplot(x='CITY', hue='HEAT_TYPE', data=prop_assess_list)\n",
        "plt.legend(bbox_to_anchor=(1.02, 1), loc='upper left', borderaxespad=0)"
      ]
    },
    {
      "cell_type": "code",
      "execution_count": null,
      "metadata": {
        "colab": {
          "base_uri": "https://localhost:8080/"
        },
        "id": "xmPsbNSCShwJ",
        "outputId": "ce2c2c98-dbfc-4b7e-e61e-1b35c3fd4ea8"
      },
      "outputs": [
        {
          "data": {
            "text/plain": [
              "N - None           12711\n",
              "C - Central AC      1345\n",
              "D - Ductless AC       65\n",
              "Name: AC_TYPE, dtype: int64"
            ]
          },
          "execution_count": 36,
          "metadata": {},
          "output_type": "execute_result"
        }
      ],
      "source": [
        "prop_assess_list['AC_TYPE'].value_counts()"
      ]
    },
    {
      "cell_type": "code",
      "execution_count": null,
      "metadata": {
        "colab": {
          "base_uri": "https://localhost:8080/",
          "height": 296
        },
        "id": "ul2A1W_shAa-",
        "outputId": "6ff3d706-8e5e-43ad-a80d-602ce7a17054"
      },
      "outputs": [
        {
          "data": {
            "text/plain": [
              "<matplotlib.axes._subplots.AxesSubplot at 0x7f96ad439650>"
            ]
          },
          "execution_count": 37,
          "metadata": {},
          "output_type": "execute_result"
        },
        {
          "data": {
            "image/png": "[encoded data removed]",
            "text/plain": [
              "<Figure size 432x288 with 1 Axes>"
            ]
          },
          "metadata": {
            "needs_background": "light"
          },
          "output_type": "display_data"
        }
      ],
      "source": [
        "sns.countplot(y='AC_TYPE', data=prop_assess_list)\n",
        "## None could include dwellings that only have window units; these dwellings may just not have central air\n",
        "## Or potentially ductless AC could mean window units\n",
        "## ***what is ductless AC?"
      ]
    },
    {
      "cell_type": "code",
      "execution_count": null,
      "metadata": {
        "colab": {
          "base_uri": "https://localhost:8080/",
          "height": 296
        },
        "id": "au3bp4OMhAa-",
        "outputId": "57d0b7f7-20d4-4182-f0a5-09da473340cf"
      },
      "outputs": [
        {
          "data": {
            "text/plain": [
              "<matplotlib.legend.Legend at 0x7f96acb1ce50>"
            ]
          },
          "execution_count": 94,
          "metadata": {},
          "output_type": "execute_result"
        },
        {
          "data": {
            "image/png": "[encoded data removed]",
            "text/plain": [
              "<Figure size 432x288 with 1 Axes>"
            ]
          },
          "metadata": {
            "needs_background": "light"
          },
          "output_type": "display_data"
        }
      ],
      "source": [
        "#AC Type per City\n",
        "sns.countplot(x='CITY', hue='AC_TYPE', data=prop_assess_list)\n",
        "plt.legend(bbox_to_anchor=(1.02, 1), loc='upper left', borderaxespad=0)"
      ]
    },
    {
      "cell_type": "code",
      "execution_count": null,
      "metadata": {
        "colab": {
          "base_uri": "https://localhost:8080/",
          "height": 296
        },
        "id": "TGoKuKUbhAa-",
        "outputId": "bd6048f8-2ae8-46ba-d15e-0f65d9d18217",
        "scrolled": true
      },
      "outputs": [
        {
          "data": {
            "text/plain": [
              "<matplotlib.legend.Legend at 0x7f96aca2f810>"
            ]
          },
          "execution_count": 93,
          "metadata": {},
          "output_type": "execute_result"
        },
        {
          "data": {
            "image/png": "[encoded data removed]",
            "text/plain": [
              "<Figure size 432x288 with 1 Axes>"
            ]
          },
          "metadata": {
            "needs_background": "light"
          },
          "output_type": "display_data"
        }
      ],
      "source": [
        "#Interior condition per City\n",
        "sns.countplot(x='CITY', hue='INT_COND', data=prop_assess_list)\n",
        "plt.legend(bbox_to_anchor=(1.02, 1), loc='upper left', borderaxespad=0)\n",
        "\n",
        "### question for assesors: how is the condition determined?"
      ]
    },
    {
      "cell_type": "code",
      "execution_count": null,
      "metadata": {
        "colab": {
          "base_uri": "https://localhost:8080/",
          "height": 300
        },
        "id": "e_TUwoO0hAa-",
        "outputId": "d964ad72-88e3-403f-97af-13a1643bfd8c"
      },
      "outputs": [
        {
          "data": {
            "text/plain": [
              "<matplotlib.legend.Legend at 0x7f96acbbd310>"
            ]
          },
          "execution_count": 92,
          "metadata": {},
          "output_type": "execute_result"
        },
        {
          "data": {
            "image/png": "[encoded data removed]",
            "text/plain": [
              "<Figure size 432x288 with 1 Axes>"
            ]
          },
          "metadata": {
            "needs_background": "light"
          },
          "output_type": "display_data"
        }
      ],
      "source": [
        "#Exterior condition per City \n",
        "sns.countplot(x='CITY', hue='EXT_COND', data=prop_assess_list)\n",
        "plt.legend(bbox_to_anchor=(1.02, 1), loc='upper left', borderaxespad=0)\n"
      ]
    },
    {
      "cell_type": "code",
      "execution_count": null,
      "metadata": {
        "colab": {
          "base_uri": "https://localhost:8080/",
          "height": 282
        },
        "id": "8J9MbA2IhAa-",
        "outputId": "8ceece6b-b971-4afc-d1a5-a74b74d25a5e"
      },
      "outputs": [
        {
          "data": {
            "text/plain": [
              "<matplotlib.axes._subplots.AxesSubplot at 0x7f96ad19b850>"
            ]
          },
          "execution_count": 41,
          "metadata": {},
          "output_type": "execute_result"
        },
        {
          "data": {
            "image/png": "[encoded data removed]",
            "text/plain": [
              "<Figure size 432x288 with 1 Axes>"
            ]
          },
          "metadata": {
            "needs_background": "light"
          },
          "output_type": "display_data"
        }
      ],
      "source": [
        "#Year Built Distribution\n",
        "prop_assess_list['YR_BUILT'].hist()"
      ]
    },
    {
      "cell_type": "code",
      "execution_count": null,
      "metadata": {
        "colab": {
          "base_uri": "https://localhost:8080/"
        },
        "id": "s0rmiZRiS-6X",
        "outputId": "5f2ba226-cbdc-4c48-8c56-264b9a8bd8e7"
      },
      "outputs": [
        {
          "data": {
            "text/plain": [
              "5128"
            ]
          },
          "execution_count": 42,
          "metadata": {},
          "output_type": "execute_result"
        }
      ],
      "source": [
        "prop_assess_list['YR_REMODEL'].count()"
      ]
    },
    {
      "cell_type": "code",
      "execution_count": null,
      "metadata": {
        "colab": {
          "base_uri": "https://localhost:8080/",
          "height": 282
        },
        "id": "jVg11kyRhAa_",
        "outputId": "c7882de8-36dd-484f-9a93-c1ed42fdb0e0"
      },
      "outputs": [
        {
          "data": {
            "text/plain": [
              "<matplotlib.axes._subplots.AxesSubplot at 0x7f96ad138750>"
            ]
          },
          "execution_count": 43,
          "metadata": {},
          "output_type": "execute_result"
        },
        {
          "data": {
            "image/png": "[encoded data removed]",
            "text/plain": [
              "<Figure size 432x288 with 1 Axes>"
            ]
          },
          "metadata": {
            "needs_background": "light"
          },
          "output_type": "display_data"
        }
      ],
      "source": [
        "#Year Remodeled Distribution\n",
        "prop_assess_list['YR_REMODEL'].hist()\n",
        "\n",
        "## is there any way to determine what was remodelled? assesor input?"
      ]
    },
    {
      "cell_type": "code",
      "execution_count": null,
      "metadata": {
        "colab": {
          "base_uri": "https://localhost:8080/"
        },
        "id": "_Zj5J-PQhAa_",
        "outputId": "e7de0c10-fc4c-455b-a59f-6688a077ece6",
        "scrolled": true
      },
      "outputs": [
        {
          "data": {
            "text/plain": [
              "2.0    7679\n",
              "2.5    2638\n",
              "3.0    2570\n",
              "1.0     798\n",
              "1.5     420\n",
              "4.0      10\n",
              "3.5       5\n",
              "Name: RES_FLOOR, dtype: int64"
            ]
          },
          "execution_count": 44,
          "metadata": {},
          "output_type": "execute_result"
        }
      ],
      "source": [
        "#Number of Floors\n",
        "prop_assess_list['RES_FLOOR'].value_counts()\n",
        "\n",
        "## what is half a floor? ***"
      ]
    },
    {
      "cell_type": "markdown",
      "metadata": {
        "id": "o3JwEheahAa_"
      },
      "source": [
        "******Chris note: 3+ floor houses may not be able to have a heat pump. Chris to look into this."
      ]
    },
    {
      "cell_type": "code",
      "execution_count": null,
      "metadata": {
        "colab": {
          "base_uri": "https://localhost:8080/",
          "height": 285
        },
        "id": "IbfNQh_vhAa_",
        "outputId": "c71a5bef-4972-4b1c-d9fc-58035859eadd"
      },
      "outputs": [
        {
          "data": {
            "text/plain": [
              "<matplotlib.axes._subplots.AxesSubplot at 0x7f96ad140890>"
            ]
          },
          "execution_count": 45,
          "metadata": {},
          "output_type": "execute_result"
        },
        {
          "data": {
            "image/png": "[encoded data removed]",
            "text/plain": [
              "<Figure size 432x288 with 1 Axes>"
            ]
          },
          "metadata": {
            "needs_background": "light"
          },
          "output_type": "display_data"
        }
      ],
      "source": [
        "prop_assess_list['RES_FLOOR'].hist()"
      ]
    },
    {
      "cell_type": "code",
      "execution_count": null,
      "metadata": {
        "colab": {
          "base_uri": "https://localhost:8080/",
          "height": 296
        },
        "id": "Up7wTef0hAa_",
        "outputId": "5ffd2861-61c8-4770-ab4f-d8413a75333d"
      },
      "outputs": [
        {
          "data": {
            "text/plain": [
              "<matplotlib.legend.Legend at 0x7f96ac55f190>"
            ]
          },
          "execution_count": 91,
          "metadata": {},
          "output_type": "execute_result"
        },
        {
          "data": {
            "image/png": "[encoded data removed]",
            "text/plain": [
              "<Figure size 432x288 with 1 Axes>"
            ]
          },
          "metadata": {
            "needs_background": "light"
          },
          "output_type": "display_data"
        }
      ],
      "source": [
        "#Floor Counts per City\n",
        "sns.countplot(x='CITY', hue='RES_FLOOR', data=prop_assess_list)\n",
        "plt.legend(bbox_to_anchor=(1.02, 1), loc='upper left', borderaxespad=0)\n"
      ]
    },
    {
      "cell_type": "code",
      "execution_count": null,
      "metadata": {
        "colab": {
          "base_uri": "https://localhost:8080/"
        },
        "id": "MVn8HEAtU0Q2",
        "outputId": "39d2a199-4c6c-41b7-a9a0-60da0cc7fd0e"
      },
      "outputs": [
        {
          "data": {
            "text/plain": [
              "M - Vinyl            7917\n",
              "W - Wood Shake       2536\n",
              "F - Frame/Clapbrd    1392\n",
              "A - Asbestos          978\n",
              "B - Brick/Stone       605\n",
              "C - Cement Board      235\n",
              "P - Asphalt           234\n",
              "U - Alum Siding       105\n",
              "S - Stucco            102\n",
              "V - Brck/Stn Venr      13\n",
              "O - Other               2\n",
              "G - Glass               2\n",
              "Name: EXT_FINISHED, dtype: int64"
            ]
          },
          "execution_count": 47,
          "metadata": {},
          "output_type": "execute_result"
        }
      ],
      "source": [
        "prop_assess_list['EXT_FINISHED'].value_counts()"
      ]
    },
    {
      "cell_type": "code",
      "execution_count": null,
      "metadata": {
        "colab": {
          "base_uri": "https://localhost:8080/",
          "height": 296
        },
        "id": "1qBWgjvRU-F0",
        "outputId": "47113df4-7537-4904-8f3f-75da0eddf410"
      },
      "outputs": [
        {
          "data": {
            "text/plain": [
              "<matplotlib.legend.Legend at 0x7f96ac6e8990>"
            ]
          },
          "execution_count": 89,
          "metadata": {},
          "output_type": "execute_result"
        },
        {
          "data": {
            "image/png": "[encoded data removed]",
            "text/plain": [
              "<Figure size 432x288 with 1 Axes>"
            ]
          },
          "metadata": {
            "needs_background": "light"
          },
          "output_type": "display_data"
        }
      ],
      "source": [
        "#DORCHESTER exterior finish\n",
        "sns.countplot(x= 'CITY', hue='EXT_FINISHED', data=prop_assess_list[prop_assess_list.CITY == 'DORCHESTER'], palette = 'Set2')\n",
        "plt.legend(bbox_to_anchor=(1.02, 1), loc='upper left', borderaxespad=0)\n"
      ]
    },
    {
      "cell_type": "code",
      "execution_count": null,
      "metadata": {
        "colab": {
          "base_uri": "https://localhost:8080/",
          "height": 296
        },
        "id": "1yJuZGTtVD-o",
        "outputId": "9d27111d-df22-45cb-99bf-fc49d29dce73"
      },
      "outputs": [
        {
          "data": {
            "text/plain": [
              "<matplotlib.legend.Legend at 0x7f96acc8f510>"
            ]
          },
          "execution_count": 90,
          "metadata": {},
          "output_type": "execute_result"
        },
        {
          "data": {
            "image/png": "[encoded data removed]",
            "text/plain": [
              "<Figure size 432x288 with 1 Axes>"
            ]
          },
          "metadata": {
            "needs_background": "light"
          },
          "output_type": "display_data"
        }
      ],
      "source": [
        "#MATTAPAN exterior finish\n",
        "sns.countplot(x= 'CITY', hue='EXT_FINISHED', data=prop_assess_list[prop_assess_list.CITY == 'MATTAPAN'], palette = 'Set2')\n",
        "plt.legend(bbox_to_anchor=(1.02, 1), loc='upper left', borderaxespad=0)\n"
      ]
    },
    {
      "cell_type": "code",
      "execution_count": null,
      "metadata": {
        "colab": {
          "base_uri": "https://localhost:8080/",
          "height": 296
        },
        "id": "jV0w6ywxVI13",
        "outputId": "06e72336-140b-42ee-cda7-1343d90fc7df"
      },
      "outputs": [
        {
          "data": {
            "text/plain": [
              "<matplotlib.legend.Legend at 0x7f96ac52f8d0>"
            ]
          },
          "execution_count": 87,
          "metadata": {},
          "output_type": "execute_result"
        },
        {
          "data": {
            "image/png": "[encoded data removed]",
            "text/plain": [
              "<Figure size 432x288 with 1 Axes>"
            ]
          },
          "metadata": {
            "needs_background": "light"
          },
          "output_type": "display_data"
        }
      ],
      "source": [
        "#ROXBURY exterior finish\n",
        "sns.countplot(x= 'CITY', hue='EXT_FINISHED', data=prop_assess_list[prop_assess_list.CITY == 'ROXBURY'], palette = 'Set2')\n",
        "plt.legend(bbox_to_anchor=(1.02, 1), loc='upper left', borderaxespad=0)\n"
      ]
    },
    {
      "cell_type": "code",
      "execution_count": null,
      "metadata": {
        "colab": {
          "base_uri": "https://localhost:8080/",
          "height": 296
        },
        "id": "Xj36PEpQVOvN",
        "outputId": "39695900-f87b-4bdc-add2-c90606feecf5"
      },
      "outputs": [
        {
          "data": {
            "text/plain": [
              "<matplotlib.legend.Legend at 0x7f96ac9992d0>"
            ]
          },
          "execution_count": 88,
          "metadata": {},
          "output_type": "execute_result"
        },
        {
          "data": {
            "image/png": "[encoded data removed]",
            "text/plain": [
              "<Figure size 432x288 with 1 Axes>"
            ]
          },
          "metadata": {
            "needs_background": "light"
          },
          "output_type": "display_data"
        }
      ],
      "source": [
        "#ROXBURY CROSSING exterior finish\n",
        "sns.countplot(x= 'CITY', hue='EXT_FINISHED', data=prop_assess_list[prop_assess_list.CITY == 'ROXBURY CROSSIN'], palette = 'Set2')\n",
        "plt.legend(bbox_to_anchor=(1.02, 1), loc='upper left', borderaxespad=0)\n"
      ]
    },
    {
      "cell_type": "code",
      "execution_count": null,
      "metadata": {
        "id": "BqV1nrUHVcUL"
      },
      "outputs": [],
      "source": [
        "yrbuilt_peak = prop_assess_list[(prop_assess_list.YR_BUILT > 1970) & (prop_assess_list.YR_BUILT < 2017)]"
      ]
    },
    {
      "cell_type": "code",
      "execution_count": null,
      "metadata": {
        "colab": {
          "base_uri": "https://localhost:8080/"
        },
        "id": "EatF5CNbWLu2",
        "outputId": "bb6751ed-39e3-4efb-be13-f32c7c20ffe8"
      },
      "outputs": [
        {
          "data": {
            "text/plain": [
              "1971.0     3\n",
              "1972.0     2\n",
              "1975.0     1\n",
              "1980.0     5\n",
              "1981.0     3\n",
              "1982.0     2\n",
              "1983.0     3\n",
              "1984.0    17\n",
              "1985.0    24\n",
              "1986.0    16\n",
              "1987.0    19\n",
              "1988.0    16\n",
              "1989.0    28\n",
              "1990.0    21\n",
              "1991.0    91\n",
              "1992.0    10\n",
              "1993.0    12\n",
              "1994.0    34\n",
              "1995.0    13\n",
              "1996.0    20\n",
              "1997.0    13\n",
              "1998.0    47\n",
              "1999.0    20\n",
              "2000.0    74\n",
              "2001.0    64\n",
              "2002.0    43\n",
              "2003.0    64\n",
              "2004.0    95\n",
              "2005.0    78\n",
              "2006.0    44\n",
              "2007.0    51\n",
              "2008.0    33\n",
              "2009.0    16\n",
              "2010.0    27\n",
              "2011.0     1\n",
              "2012.0     8\n",
              "2013.0     8\n",
              "2014.0     8\n",
              "2015.0     4\n",
              "2016.0    18\n",
              "Name: YR_BUILT, dtype: int64"
            ]
          },
          "execution_count": 53,
          "metadata": {},
          "output_type": "execute_result"
        }
      ],
      "source": [
        "yrbuilt_peak['YR_BUILT'].value_counts().sort_index()"
      ]
    },
    {
      "cell_type": "code",
      "execution_count": null,
      "metadata": {
        "colab": {
          "base_uri": "https://localhost:8080/",
          "height": 282
        },
        "id": "rNC6pbHuWTgX",
        "outputId": "17612924-9a54-4115-f03c-734d72354e0f"
      },
      "outputs": [
        {
          "data": {
            "text/plain": [
              "<matplotlib.axes._subplots.AxesSubplot at 0x7f96accdc310>"
            ]
          },
          "execution_count": 54,
          "metadata": {},
          "output_type": "execute_result"
        },
        {
          "data": {
            "image/png": "[encoded data removed]",
            "text/plain": [
              "<Figure size 432x288 with 1 Axes>"
            ]
          },
          "metadata": {
            "needs_background": "light"
          },
          "output_type": "display_data"
        }
      ],
      "source": [
        "yrbuilt_peak['YR_BUILT'].hist()"
      ]
    },
    {
      "cell_type": "code",
      "execution_count": null,
      "metadata": {
        "colab": {
          "base_uri": "https://localhost:8080/"
        },
        "id": "sHEh6Z5-WiBR",
        "outputId": "6ef93589-44e1-4a7b-b0e5-b1225bb4903a"
      },
      "outputs": [
        {
          "data": {
            "text/plain": [
              "3.0     3083\n",
              "4.0     2976\n",
              "6.0     2932\n",
              "5.0     2079\n",
              "9.0      994\n",
              "7.0      703\n",
              "8.0      587\n",
              "2.0      538\n",
              "10.0      81\n",
              "11.0      62\n",
              "12.0      61\n",
              "1.0       16\n",
              "14.0       6\n",
              "15.0       2\n",
              "18.0       1\n",
              "Name: BED_RMS, dtype: int64"
            ]
          },
          "execution_count": 55,
          "metadata": {},
          "output_type": "execute_result"
        }
      ],
      "source": [
        "prop_assess_list['BED_RMS'].value_counts()"
      ]
    },
    {
      "cell_type": "markdown",
      "metadata": {
        "id": "716VFtEChxdr"
      },
      "source": [
        "## Scoring Rubric"
      ]
    },
    {
      "cell_type": "markdown",
      "metadata": {
        "id": "Vn3aTiWxhAa_"
      },
      "source": [
        "|Field|\tIncluded in DB?|\tIncluded in Scoring?|\tScoring Rank|\tNotes:|\tExample Data|\n",
        "|---|---|---|---|---|---|\n",
        "|Bedrooms:|\tY|\tY|\t?|\tMay be useful in scoring if we learn more details|\t6|\n",
        "|Interior Condition:|\tY|\tY|\t?|\tMay be useful in scoring if we learn more details|\tGood|\n",
        "|Exterior Finish:|\tY\t|Y|\t?|\tMay be useful in scoring if we learn more details|\tGood|\n",
        "|Exterior Condition:|\tY|\tY|\t?|\tMay be useful in scoring if we learn more details|\tFrame/Clapbrd|\n",
        "|Heating Fuel Type [NOT in the Boston Data]\t|Y|\tY|\t(1)|\t10 - electric resistance, 8 - oil , 4 - natural gas|\t|\n",
        "|Heat Type:|\tY|\tY|\t1|\t[Need to review options for proper scoring]|\tHt Water/Steam|\n",
        "|AC Type:|\tY|\tY|\t2|\tCheck values (Window, Central, None?)|\tNone|\n",
        "|Year Built:|\tY|\tY|\t3|\tSeparate note on scoring for this below*|\t2004|\n",
        "|Living Area:|\t|Y\t|Y\t|4T\t|Combo stat 1: Living Area / Total Rooms\t|2,420 sq ft|\n",
        "|Total Rooms:|\tY|\tY|\t4T|\tCombo stat 1: Living Area / Total Rooms|\t12|\n",
        "|Lot Size:|\tY|\tY|\t5T|\tPossible Combo stat2: Lot size - (Living Area/story Height)|\t3,200 sq ft|\n",
        "|Story Height:|\tY|\tY|\t5T|\tPossible Combo stat2: Lot size - (Living Area/story Height)|\t3|\n",
        "|Bathrooms:|\tY|\tN|\tn/a|\t\t|3|\n",
        "|Parcel ID:|\tY|\tN|\tn/a|\t\t||1200016000|\n",
        "|Address:|\tY|\tN|\tn/a|\tPotential to include in scoring if we can map areas with no natural gas service|\t8 WARREN PL BOSTON MA 02119|\n",
        "|Property Type:|\tY|\tN|\tn/a|\t\t||Two Family|\n",
        "|Classification Code:|\tY|\tN|\tn/a|\t\t|0104 (Residential Property / TWO-FAM DWELLING)|\n",
        "|Owner on Saturday, January 1, 2022:|\tY|\tN|\tn/a||\t\t\n",
        "|Owner's Mailing Address:|\tY|\tN|\tn/a|\tMust be the same as parcel address for record to be included in DB|\t13 ROCKLAND AV ROXBURY MA 02119|\n",
        "|Land Use:|\tY|\tN|\tn/a|\t\t||104 - TWO-FAM DWELLING|\n",
        "|Style:|\tY|\tN|\tn/a|\t\t|Conventional|\n",
        "|Fireplaces:|\tY|\tN|\tn/a|\t\t||0|\n",
        "|Residential Exemption:|\tN|\tN|\tn/a|\t\t||Yes|\n",
        "|Personal Exemption:|\tN|\tN|\tn/a|\t\t||No|\n",
        "|Other Fixtures:|\tN|\tN|\tn/a|\t\t||0|\n",
        "|Half Bathrooms:|\tN|\tN|\tn/a|\t\t||0|\n",
        "|Bath Style 1:|\tN|\tN|\tn/a|\t\t||Modern|\n",
        "|Bath Style 2:|\tN|\tN|\tn/a|\t\t||Modern|\n",
        "|Bath Style 3:|\tN|\tN|\tn/a|\t\t||Modern|\n",
        "|Number of Kitchens:|\tN|\tN|\tn/a|\t\t||2|\n",
        "|Kitchen Type:|\tN|\tN|\tn/a|\t\t||2 Full Eat In Kitchens|\n",
        "|Kitchen Style 1:|\tN|\tN|\tn/a|\t\t||Modern|\n",
        "|Kitchen Style 2:|\tN|\tN|\tn/a|\t\t||Modern|\n",
        "|Kitchen Style 3:|\tN|\tN|\t|n/a|||\t\t\n",
        "|Interior Finish:|\tN|\tN|\tn/a|\t\t||Normal|\n",
        "|View:|\tN|\tN|\tn/a|\t\t||Fair|\n",
        "|Grade:|\tN|\tN|\tn/a|\t\t||Average|\n",
        "|Parking Spots:|\tN|\tN|\tn/a|\t\t||2|\n",
        "|Roof Cover:|\tN|\tN|\tn/a|\t\t||Asphalt Shingl|\n",
        "|Roof Structure:|\tN|\tN|\tn/a|\t\t||Gable|\n",
        "|Foundation:|\tN|\tN|\tn/a|\t\t||Concrete|\n",
        "\t\t\t\t\t\n",
        "\t\t\t\t\t\n",
        "\t\t\t\t\t\n",
        "\t\t\t\t\t\n",
        "\t\t\t\t\t\n",
        "*Year Built - Note on Scoring\t\t\t\t\t\n",
        "Any value that is <5 years from today - too recently built, owner has all new equipment, less likely to swap out for heat pumps\t\t\t\t\t\n",
        "Scoring high and higher as YB date is older from 5 years from today\t\t\t\t\t\n",
        "Peak score is 20+/- years from today (2000-4) - expectation that original equipment, if present, would be prime for replacement\t\t\t\t\t\n",
        "High score maintains back to 1970 (during oil crisis of '73, new houses began to be built with more insulation, in '70 ductwork sizing was standardized)\t\t\t\t\t"
      ]
    },
    {
      "cell_type": "markdown",
      "metadata": {
        "id": "RQNsV6u5hAbC"
      },
      "source": [
        "|Field|\tIncluded in DB?|\tIncluded in Scoring?|\tScoring Rank|\tNotes:|\tExample Data|\n",
        "|---|---|---|---|---|---|\n",
        "|Bedrooms:|\tY|\tY|\t?|\tMay be useful in scoring if we learn more details|\t6|\n",
        "|Interior Condition:|\tY|\tY|\t?|\tMay be useful in scoring if we learn more details|\tGood|\n",
        "|Exterior Finish:|\tY\t|Y|\t?|\tMay be useful in scoring if we learn more details|\tGood|\n",
        "|Exterior Condition:|\tY|\tY|\t?|\tMay be useful in scoring if we learn more details|\tFrame/Clapbrd|\n",
        "|Heating Fuel Type [NOT in the Boston Data]\t|Y|\tY|\t(1)|\t10 - electric resistance, 8 - oil , 4 - natural gas|\t|\n",
        "|Heat Type:|\tY|\tY|\t1|\t[Need to review options for proper scoring]|\tHt Water/Steam|\n",
        "|AC Type:|\tY|\tY|\t2|\tCheck values (Window, Central, None?)|\tNone|\n",
        "|Year Built:|\tY|\tY|\t3|\tSeparate note on scoring for this below*|\t2004|\n",
        "|Living Area:|\t|Y\t|Y\t|4T\t|Combo stat 1: Living Area / Total Rooms\t|2,420 sq ft|\n",
        "|Total Rooms:|\tY|\tY|\t4T|\tCombo stat 1: Living Area / Total Rooms|\t12|\n",
        "|Lot Size:|\tY|\tY|\t5T|\tPossible Combo stat2: Lot size - (Living Area/story Height)|\t3,200 sq ft|\n",
        "|Story Height:|\tY|\tY|\t5T|\tPossible Combo stat2: Lot size - (Living Area/story Height)|\t3|"
      ]
    },
    {
      "cell_type": "markdown",
      "metadata": {
        "id": "FuubDCG0h4OG"
      },
      "source": [
        "## Scoring Functions"
      ]
    },
    {
      "cell_type": "code",
      "execution_count": null,
      "metadata": {
        "id": "LTsxKHjqhAbC"
      },
      "outputs": [],
      "source": [
        "def bedroom_score(x):\n",
        "    if x>2:\n",
        "        return 10\n",
        "    else:\n",
        "        return 2"
      ]
    },
    {
      "cell_type": "code",
      "execution_count": null,
      "metadata": {
        "id": "WmvE5nrOhAbD"
      },
      "outputs": [],
      "source": [
        "def int_condition_score(x):\n",
        "    if x=='A - Average':\n",
        "        return 10\n",
        "    elif x=='G - Good':\n",
        "        return 8\n",
        "    elif x=='F - Fair':\n",
        "        return 6\n",
        "    elif x=='E - Excellent':\n",
        "        return 4\n",
        "    elif x=='P - Poor':\n",
        "        return 2\n",
        "    else:\n",
        "        return 0"
      ]
    },
    {
      "cell_type": "code",
      "execution_count": null,
      "metadata": {
        "id": "AUGCOmkfhAbD"
      },
      "outputs": [],
      "source": [
        "def ext_finish_score(x):\n",
        "    if x==\"M - Vinyl\":\n",
        "        return 10\n",
        "    elif x==\"W - Wood Shake\":\n",
        "        return 9\n",
        "    elif x==\"F - Frame/Clapbrd\":\n",
        "        return 8\n",
        "    elif x==\"A - Asbestos\":\n",
        "        return 7\n",
        "    elif x==\"B - Brick/Stone\":\n",
        "        return 6\n",
        "    elif x==\"C - Cement Board\":\n",
        "        return 5\n",
        "    elif x==\"P - Asphalt\":\n",
        "        return 4\n",
        "    elif x==\"U - Alum Siding\":\n",
        "        return 3\n",
        "    elif x==\"S - Stucco\":\n",
        "        return 2\n",
        "    elif x==\"V - Brck/Stn Venr\":\n",
        "        return 1\n",
        "    elif x==\"O - Other\":\n",
        "        return 0\n",
        "    elif x==\"G - Glass\":\n",
        "        return 0\n",
        "    else:\n",
        "        return 0"
      ]
    },
    {
      "cell_type": "code",
      "execution_count": null,
      "metadata": {
        "id": "RJPmHFgahAbD"
      },
      "outputs": [],
      "source": [
        "def ext_condition_score(x):\n",
        "    if x=='A - Average':\n",
        "        return 10\n",
        "    elif x=='G - Good':\n",
        "        return 8\n",
        "    elif x=='F - Fair':\n",
        "        return 6\n",
        "    elif x=='E - Excellent':\n",
        "        return 4\n",
        "    elif x=='P - Poor':\n",
        "        return 2\n",
        "    else:\n",
        "        return 0"
      ]
    },
    {
      "cell_type": "code",
      "execution_count": null,
      "metadata": {
        "id": "PZoH1lUyhAbD"
      },
      "outputs": [],
      "source": [
        "def heat_fuel_score(x):\n",
        "    if x==\"I - Indiv. Cntrl\":\n",
        "        return 10\n",
        "    elif x==\"C - Common\":\n",
        "        return 5\n",
        "    else:\n",
        "        return 0"
      ]
    },
    {
      "cell_type": "code",
      "execution_count": null,
      "metadata": {
        "id": "5MVUpAuHhAbD"
      },
      "outputs": [],
      "source": [
        "def heat_type_score(x):\n",
        "    if x==\"W - Ht Water/Steam\":\n",
        "        return 10\n",
        "    elif x==\"F - Forced Hot Air\":\n",
        "        return 8\n",
        "    elif x==\"E - Electric\":\n",
        "        return 6\n",
        "    elif x==\"S - Space Heat\":\n",
        "        return 5\n",
        "    elif x==\"P - Heat Pump\":\n",
        "        return 4\n",
        "    elif x==\"N - None\":\n",
        "        return 2\n",
        "    elif x==\"O - Other\":\n",
        "        return 1\n",
        "    else: \n",
        "        return 0"
      ]
    },
    {
      "cell_type": "code",
      "execution_count": null,
      "metadata": {
        "id": "V9fq2U9chAbD"
      },
      "outputs": [],
      "source": [
        "def ac_score(x):\n",
        "    if x==\"N - None\":\n",
        "        return 10\n",
        "    elif x==\"C - Central AC\":\n",
        "        return 5\n",
        "    elif x==\"D - Ductless AC\":\n",
        "        return 2\n",
        "    else:\n",
        "        return 0"
      ]
    },
    {
      "cell_type": "code",
      "execution_count": null,
      "metadata": {
        "id": "VTw-P8SThAbD"
      },
      "outputs": [],
      "source": [
        "def yr_built_score(x):\n",
        "    if x<2000:\n",
        "        return 10\n",
        "    elif x>=2000:\n",
        "        return 0\n",
        "    else:\n",
        "        return 0"
      ]
    },
    {
      "cell_type": "code",
      "execution_count": null,
      "metadata": {
        "id": "YdyIHEUphAbE"
      },
      "outputs": [],
      "source": [
        "def living_area_score(x):\n",
        "    if x<100:\n",
        "        return 10\n",
        "    elif x>=100:\n",
        "        return 20\n",
        "    else:\n",
        "        return 0"
      ]
    },
    {
      "cell_type": "code",
      "execution_count": null,
      "metadata": {
        "id": "mh2fMtJ7hAbE"
      },
      "outputs": [],
      "source": [
        "def total_rooms_score(x):\n",
        "    if x>2:\n",
        "        return 10\n",
        "    else:\n",
        "        return 2"
      ]
    },
    {
      "cell_type": "code",
      "execution_count": null,
      "metadata": {
        "id": "Ng3-r1jQhAbE"
      },
      "outputs": [],
      "source": [
        "def lot_size_score(x):\n",
        "    if x>2:\n",
        "        return 10\n",
        "    else:\n",
        "        return 2"
      ]
    },
    {
      "cell_type": "code",
      "execution_count": null,
      "metadata": {
        "id": "1scUE21PhAbE"
      },
      "outputs": [],
      "source": [
        "def story_height_score(x):\n",
        "    if x>2500:\n",
        "        return 10\n",
        "    else:\n",
        "        return 5"
      ]
    },
    {
      "cell_type": "markdown",
      "metadata": {
        "id": "Q8P2HnwuiAiN"
      },
      "source": [
        "## Applying Scoring Functions To Data"
      ]
    },
    {
      "cell_type": "code",
      "execution_count": null,
      "metadata": {
        "id": "Fz6w8lPlhAbE"
      },
      "outputs": [],
      "source": [
        "# prop_assess4['BEDROOM_SCORE'] = prop_assess4.BED_RMS.apply(bedroom_score)\n",
        "# prop_assess4['BED_RMS'] = prop_assess4['BED_RMS'].astype(int)\n",
        "# prop_assess4['BED_RMS'].value_counts()"
      ]
    },
    {
      "cell_type": "code",
      "execution_count": null,
      "metadata": {
        "id": "cIFvwSlmhAbE"
      },
      "outputs": [],
      "source": [
        "prop_assess_list['BEDROOM_SCORE'] = prop_assess_list.apply(lambda x: bedroom_score(x['BED_RMS']),axis=1)"
      ]
    },
    {
      "cell_type": "code",
      "execution_count": null,
      "metadata": {
        "id": "GqhQdNnGhAbE"
      },
      "outputs": [],
      "source": [
        "prop_assess_list['INT_COND_SCORE'] = prop_assess_list.apply(lambda x: int_condition_score(x['INT_COND']),axis=1)"
      ]
    },
    {
      "cell_type": "code",
      "execution_count": null,
      "metadata": {
        "id": "iafJv8yThAbE"
      },
      "outputs": [],
      "source": [
        "prop_assess_list['EXT_FINISH_SCORE'] = prop_assess_list.apply(lambda x: ext_finish_score(x['EXT_FINISHED']),axis=1)"
      ]
    },
    {
      "cell_type": "code",
      "execution_count": null,
      "metadata": {
        "id": "qRIOA2K6hAbE"
      },
      "outputs": [],
      "source": [
        "prop_assess_list['EXT_COND_SCORE'] = prop_assess_list.apply(lambda x: ext_condition_score(x['EXT_COND']),axis=1)"
      ]
    },
    {
      "cell_type": "code",
      "execution_count": null,
      "metadata": {
        "id": "JcIHFm_AhAbE"
      },
      "outputs": [],
      "source": [
        "prop_assess_list['HEAT_FUEL_SCORE'] = prop_assess_list.apply(lambda x: heat_fuel_score(x['HEAT_FUEL']),axis=1)"
      ]
    },
    {
      "cell_type": "code",
      "execution_count": null,
      "metadata": {
        "id": "nbB_-1G9hAbE"
      },
      "outputs": [],
      "source": [
        "prop_assess_list['HEAT_TYPE_SCORE'] = prop_assess_list.apply(lambda x: heat_type_score(x['HEAT_TYPE']),axis=1)"
      ]
    },
    {
      "cell_type": "code",
      "execution_count": null,
      "metadata": {
        "id": "B5w2d94dhAbF"
      },
      "outputs": [],
      "source": [
        "prop_assess_list['AC_TYPE_SCORE'] = prop_assess_list.apply(lambda x: ac_score(x['AC_TYPE']),axis=1)"
      ]
    },
    {
      "cell_type": "code",
      "execution_count": null,
      "metadata": {
        "id": "0KkGSJMghAbF"
      },
      "outputs": [],
      "source": [
        "prop_assess_list['YR_BUILT_SCORE'] = prop_assess_list.apply(lambda x: yr_built_score(x['YR_BUILT']),axis=1)"
      ]
    },
    {
      "cell_type": "code",
      "execution_count": null,
      "metadata": {
        "id": "XkS9rXR4hAbF"
      },
      "outputs": [],
      "source": [
        "prop_assess_list['LIVING_AREA_SCORE'] = prop_assess_list.apply(lambda x: living_area_score(x['Living_Space_Ratio']),axis=1)"
      ]
    },
    {
      "cell_type": "code",
      "execution_count": null,
      "metadata": {
        "id": "tOUP88P7hAbF"
      },
      "outputs": [],
      "source": [
        "prop_assess_list['TT_ROOM_SCORE'] = prop_assess_list.apply(lambda x: bedroom_score(x['BED_RMS']),axis=1)"
      ]
    },
    {
      "cell_type": "code",
      "execution_count": null,
      "metadata": {
        "id": "4c1ZIzdwhAbF"
      },
      "outputs": [],
      "source": [
        "prop_assess_list['LOT_SIZE_SCORE'] = prop_assess_list.apply(lambda x: int_condition_score(x['INT_COND']),axis=1)"
      ]
    },
    {
      "cell_type": "code",
      "execution_count": null,
      "metadata": {
        "id": "DUV2uqJMhAbF"
      },
      "outputs": [],
      "source": [
        "prop_assess_list['STORY_HT_SCORE'] = prop_assess_list.apply(lambda x: story_height_score(x['LOT_RATIO']),axis=1)"
      ]
    },
    {
      "cell_type": "code",
      "execution_count": null,
      "metadata": {
        "colab": {
          "base_uri": "https://localhost:8080/",
          "height": 473
        },
        "id": "JgAoRLfRhAbF",
        "outputId": "92a70d2b-f458-481f-b0f4-f20f1451f259"
      },
      "outputs": [
        {
          "data": {
            "text/html": [
              "\n",
              "  <div id=\"df-c846abe3-6034-4603-887b-89640b782373\">\n",
              "    <div class=\"colab-df-container\">\n",
              "      <div>\n",
              "<style scoped>\n",
              "    .dataframe tbody tr th:only-of-type {\n",
              "        vertical-align: middle;\n",
              "    }\n",
              "\n",
              "    .dataframe tbody tr th {\n",
              "        vertical-align: top;\n",
              "    }\n",
              "\n",
              "    .dataframe thead th {\n",
              "        text-align: right;\n",
              "    }\n",
              "</style>\n",
              "<table border=\"1\" class=\"dataframe\">\n",
              "  <thead>\n",
              "    <tr style=\"text-align: right;\">\n",
              "      <th></th>\n",
              "      <th>CITY</th>\n",
              "      <th>LU</th>\n",
              "      <th>LU_DESC</th>\n",
              "      <th>OWN_OCC</th>\n",
              "      <th>HEAT_TYPE</th>\n",
              "      <th>AC_TYPE</th>\n",
              "      <th>RES_FLOOR</th>\n",
              "      <th>YR_REMODEL</th>\n",
              "      <th>YR_BUILT</th>\n",
              "      <th>FIRE_PLACE</th>\n",
              "      <th>...</th>\n",
              "      <th>EXT_FINISH_SCORE</th>\n",
              "      <th>EXT_COND_SCORE</th>\n",
              "      <th>HEAT_FUEL_SCORE</th>\n",
              "      <th>HEAT_TYPE_SCORE</th>\n",
              "      <th>AC_TYPE_SCORE</th>\n",
              "      <th>YR_BUILT_SCORE</th>\n",
              "      <th>LIVING_AREA_SCORE</th>\n",
              "      <th>TT_ROOM_SCORE</th>\n",
              "      <th>LOT_SIZE_SCORE</th>\n",
              "      <th>STORY_HT_SCORE</th>\n",
              "    </tr>\n",
              "  </thead>\n",
              "  <tbody>\n",
              "    <tr>\n",
              "      <th>71546</th>\n",
              "      <td>DORCHESTER</td>\n",
              "      <td>R3</td>\n",
              "      <td>THREE-FAM DWELLING</td>\n",
              "      <td>Y</td>\n",
              "      <td>F - Forced Hot Air</td>\n",
              "      <td>C - Central AC</td>\n",
              "      <td>3.0</td>\n",
              "      <td>NaN</td>\n",
              "      <td>2003.0</td>\n",
              "      <td>NaN</td>\n",
              "      <td>...</td>\n",
              "      <td>5</td>\n",
              "      <td>8</td>\n",
              "      <td>0</td>\n",
              "      <td>8</td>\n",
              "      <td>5</td>\n",
              "      <td>0</td>\n",
              "      <td>20</td>\n",
              "      <td>10</td>\n",
              "      <td>8</td>\n",
              "      <td>5</td>\n",
              "    </tr>\n",
              "    <tr>\n",
              "      <th>71547</th>\n",
              "      <td>DORCHESTER</td>\n",
              "      <td>R3</td>\n",
              "      <td>THREE-FAM DWELLING</td>\n",
              "      <td>Y</td>\n",
              "      <td>F - Forced Hot Air</td>\n",
              "      <td>N - None</td>\n",
              "      <td>3.0</td>\n",
              "      <td>NaN</td>\n",
              "      <td>1905.0</td>\n",
              "      <td>NaN</td>\n",
              "      <td>...</td>\n",
              "      <td>8</td>\n",
              "      <td>8</td>\n",
              "      <td>0</td>\n",
              "      <td>8</td>\n",
              "      <td>10</td>\n",
              "      <td>10</td>\n",
              "      <td>20</td>\n",
              "      <td>10</td>\n",
              "      <td>10</td>\n",
              "      <td>5</td>\n",
              "    </tr>\n",
              "    <tr>\n",
              "      <th>71549</th>\n",
              "      <td>DORCHESTER</td>\n",
              "      <td>R1</td>\n",
              "      <td>SINGLE FAM DWELLING</td>\n",
              "      <td>Y</td>\n",
              "      <td>W - Ht Water/Steam</td>\n",
              "      <td>D - Ductless AC</td>\n",
              "      <td>2.0</td>\n",
              "      <td>NaN</td>\n",
              "      <td>1900.0</td>\n",
              "      <td>NaN</td>\n",
              "      <td>...</td>\n",
              "      <td>10</td>\n",
              "      <td>10</td>\n",
              "      <td>0</td>\n",
              "      <td>10</td>\n",
              "      <td>2</td>\n",
              "      <td>10</td>\n",
              "      <td>20</td>\n",
              "      <td>10</td>\n",
              "      <td>10</td>\n",
              "      <td>5</td>\n",
              "    </tr>\n",
              "    <tr>\n",
              "      <th>71556</th>\n",
              "      <td>DORCHESTER</td>\n",
              "      <td>R1</td>\n",
              "      <td>SINGLE FAM DWELLING</td>\n",
              "      <td>Y</td>\n",
              "      <td>F - Forced Hot Air</td>\n",
              "      <td>N - None</td>\n",
              "      <td>2.0</td>\n",
              "      <td>NaN</td>\n",
              "      <td>1914.0</td>\n",
              "      <td>NaN</td>\n",
              "      <td>...</td>\n",
              "      <td>10</td>\n",
              "      <td>10</td>\n",
              "      <td>0</td>\n",
              "      <td>8</td>\n",
              "      <td>10</td>\n",
              "      <td>10</td>\n",
              "      <td>20</td>\n",
              "      <td>10</td>\n",
              "      <td>10</td>\n",
              "      <td>5</td>\n",
              "    </tr>\n",
              "    <tr>\n",
              "      <th>71557</th>\n",
              "      <td>DORCHESTER</td>\n",
              "      <td>R1</td>\n",
              "      <td>SINGLE FAM DWELLING</td>\n",
              "      <td>Y</td>\n",
              "      <td>F - Forced Hot Air</td>\n",
              "      <td>C - Central AC</td>\n",
              "      <td>2.0</td>\n",
              "      <td>2001.0</td>\n",
              "      <td>1914.0</td>\n",
              "      <td>NaN</td>\n",
              "      <td>...</td>\n",
              "      <td>10</td>\n",
              "      <td>10</td>\n",
              "      <td>0</td>\n",
              "      <td>8</td>\n",
              "      <td>5</td>\n",
              "      <td>10</td>\n",
              "      <td>20</td>\n",
              "      <td>10</td>\n",
              "      <td>8</td>\n",
              "      <td>5</td>\n",
              "    </tr>\n",
              "  </tbody>\n",
              "</table>\n",
              "<p>5 rows × 41 columns</p>\n",
              "</div>\n",
              "      <button class=\"colab-df-convert\" onclick=\"convertToInteractive('df-c846abe3-6034-4603-887b-89640b782373')\"\n",
              "              title=\"Convert this dataframe to an interactive table.\"\n",
              "              style=\"display:none;\">\n",
              "        \n",
              "  <svg xmlns=\"http://www.w3.org/2000/svg\" height=\"24px\"viewBox=\"0 0 24 24\"\n",
              "       width=\"24px\">\n",
              "    <path d=\"M0 0h24v24H0V0z\" fill=\"none\"/>\n",
              "    <path d=\"M18.56 5.44l.94 2.06.94-2.06 2.06-.94-2.06-.94-.94-2.06-.94 2.06-2.06.94zm-11 1L8.5 8.5l.94-2.06 2.06-.94-2.06-.94L8.5 2.5l-.94 2.06-2.06.94zm10 10l.94 2.06.94-2.06 2.06-.94-2.06-.94-.94-2.06-.94 2.06-2.06.94z\"/><path d=\"M17.41 7.96l-1.37-1.37c-.4-.4-.92-.59-1.43-.59-.52 0-1.04.2-1.43.59L10.3 9.45l-7.72 7.72c-.78.78-.78 2.05 0 2.83L4 21.41c.39.39.9.59 1.41.59.51 0 1.02-.2 1.41-.59l7.78-7.78 2.81-2.81c.8-.78.8-2.07 0-2.86zM5.41 20L4 18.59l7.72-7.72 1.47 1.35L5.41 20z\"/>\n",
              "  </svg>\n",
              "      </button>\n",
              "      \n",
              "  <style>\n",
              "    .colab-df-container {\n",
              "      display:flex;\n",
              "      flex-wrap:wrap;\n",
              "      gap: 12px;\n",
              "    }\n",
              "\n",
              "    .colab-df-convert {\n",
              "      background-color: #E8F0FE;\n",
              "      border: none;\n",
              "      border-radius: 50%;\n",
              "      cursor: pointer;\n",
              "      display: none;\n",
              "      fill: #1967D2;\n",
              "      height: 32px;\n",
              "      padding: 0 0 0 0;\n",
              "      width: 32px;\n",
              "    }\n",
              "\n",
              "    .colab-df-convert:hover {\n",
              "      background-color: #E2EBFA;\n",
              "      box-shadow: 0px 1px 2px rgba(60, 64, 67, 0.3), 0px 1px 3px 1px rgba(60, 64, 67, 0.15);\n",
              "      fill: #174EA6;\n",
              "    }\n",
              "\n",
              "    [theme=dark] .colab-df-convert {\n",
              "      background-color: #3B4455;\n",
              "      fill: #D2E3FC;\n",
              "    }\n",
              "\n",
              "    [theme=dark] .colab-df-convert:hover {\n",
              "      background-color: #434B5C;\n",
              "      box-shadow: 0px 1px 3px 1px rgba(0, 0, 0, 0.15);\n",
              "      filter: drop-shadow(0px 1px 2px rgba(0, 0, 0, 0.3));\n",
              "      fill: #FFFFFF;\n",
              "    }\n",
              "  </style>\n",
              "\n",
              "      <script>\n",
              "        const buttonEl =\n",
              "          document.querySelector('#df-c846abe3-6034-4603-887b-89640b782373 button.colab-df-convert');\n",
              "        buttonEl.style.display =\n",
              "          google.colab.kernel.accessAllowed ? 'block' : 'none';\n",
              "\n",
              "        async function convertToInteractive(key) {\n",
              "          const element = document.querySelector('#df-c846abe3-6034-4603-887b-89640b782373');\n",
              "          const dataTable =\n",
              "            await google.colab.kernel.invokeFunction('convertToInteractive',\n",
              "                                                     [key], {});\n",
              "          if (!dataTable) return;\n",
              "\n",
              "          const docLinkHtml = 'Like what you see? Visit the ' +\n",
              "            '<a target=\"_blank\" href=https://colab.research.google.com/notebooks/data_table.ipynb>data table notebook</a>'\n",
              "            + ' to learn more about interactive tables.';\n",
              "          element.innerHTML = '';\n",
              "          dataTable['output_type'] = 'display_data';\n",
              "          await google.colab.output.renderOutput(dataTable, element);\n",
              "          const docLink = document.createElement('div');\n",
              "          docLink.innerHTML = docLinkHtml;\n",
              "          element.appendChild(docLink);\n",
              "        }\n",
              "      </script>\n",
              "    </div>\n",
              "  </div>\n",
              "  "
            ],
            "text/plain": [
              "             CITY  LU              LU_DESC OWN_OCC           HEAT_TYPE  \\\n",
              "71546  DORCHESTER  R3   THREE-FAM DWELLING       Y  F - Forced Hot Air   \n",
              "71547  DORCHESTER  R3   THREE-FAM DWELLING       Y  F - Forced Hot Air   \n",
              "71549  DORCHESTER  R1  SINGLE FAM DWELLING       Y  W - Ht Water/Steam   \n",
              "71556  DORCHESTER  R1  SINGLE FAM DWELLING       Y  F - Forced Hot Air   \n",
              "71557  DORCHESTER  R1  SINGLE FAM DWELLING       Y  F - Forced Hot Air   \n",
              "\n",
              "               AC_TYPE  RES_FLOOR  YR_REMODEL  YR_BUILT  FIRE_PLACE  ...  \\\n",
              "71546   C - Central AC        3.0         NaN    2003.0         NaN  ...   \n",
              "71547         N - None        3.0         NaN    1905.0         NaN  ...   \n",
              "71549  D - Ductless AC        2.0         NaN    1900.0         NaN  ...   \n",
              "71556         N - None        2.0         NaN    1914.0         NaN  ...   \n",
              "71557   C - Central AC        2.0      2001.0    1914.0         NaN  ...   \n",
              "\n",
              "      EXT_FINISH_SCORE EXT_COND_SCORE HEAT_FUEL_SCORE HEAT_TYPE_SCORE  \\\n",
              "71546                5              8               0               8   \n",
              "71547                8              8               0               8   \n",
              "71549               10             10               0              10   \n",
              "71556               10             10               0               8   \n",
              "71557               10             10               0               8   \n",
              "\n",
              "       AC_TYPE_SCORE  YR_BUILT_SCORE  LIVING_AREA_SCORE  TT_ROOM_SCORE  \\\n",
              "71546              5               0                 20             10   \n",
              "71547             10              10                 20             10   \n",
              "71549              2              10                 20             10   \n",
              "71556             10              10                 20             10   \n",
              "71557              5              10                 20             10   \n",
              "\n",
              "      LOT_SIZE_SCORE  STORY_HT_SCORE  \n",
              "71546              8               5  \n",
              "71547             10               5  \n",
              "71549             10               5  \n",
              "71556             10               5  \n",
              "71557              8               5  \n",
              "\n",
              "[5 rows x 41 columns]"
            ]
          },
          "execution_count": 81,
          "metadata": {},
          "output_type": "execute_result"
        }
      ],
      "source": [
        "prop_assess_list.head()"
      ]
    }
  ],
  "metadata": {
    "colab": {
      "collapsed_sections": [],
      "provenance": [],
      "toc_visible": true
    },
    "kernelspec": {
      "display_name": "Python 3.8.10 64-bit",
      "language": "python",
      "name": "python3"
    },
    "language_info": {
      "codemirror_mode": {
        "name": "ipython",
        "version": 3
      },
      "file_extension": ".py",
      "mimetype": "text/x-python",
      "name": "python",
      "nbconvert_exporter": "python",
      "pygments_lexer": "ipython3",
      "version": "3.8.10"
    },
    "vscode": {
      "interpreter": {
        "hash": "916dbcbb3f70747c44a77c7bcd40155683ae19c65e1c03b4aa3499c5328201f1"
      }
    }
  },
  "nbformat": 4,
  "nbformat_minor": 0
}
